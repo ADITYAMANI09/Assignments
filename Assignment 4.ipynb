{
 "cells": [
  {
   "cell_type": "markdown",
   "id": "4ee214f3",
   "metadata": {},
   "source": [
    "# 1. What exactly is []?"
   ]
  },
  {
   "cell_type": "markdown",
   "id": "0d3830da",
   "metadata": {},
   "source": [
    "In Python, [] is an empty list literal, which represents an empty list. A list is a mutable, ordered collection of items, enclosed in square brackets [], and separated by commas. An empty list [] simply denotes a list with no elements in it."
   ]
  },
  {
   "cell_type": "markdown",
   "id": "42b4207a",
   "metadata": {},
   "source": [
    "# 2. In a list of values stored in a variable called spam, how would you assign the value 'hello' as the third value? (Assume [2, 4, 6, 8, 10] are in spam.)"
   ]
  },
  {
   "cell_type": "code",
   "execution_count": 6,
   "id": "c8fa47f2",
   "metadata": {},
   "outputs": [
    {
     "data": {
      "text/plain": [
       "[2, 4, 'hello', 8, 10]"
      ]
     },
     "execution_count": 6,
     "metadata": {},
     "output_type": "execute_result"
    }
   ],
   "source": [
    "spam = [2, 4, 6, 8, 10]  # given list of values in spam\n",
    "spam[2] = 'hello'  # assign 'hello' as the third value\n",
    "spam"
   ]
  },
  {
   "cell_type": "markdown",
   "id": "1955c8c5",
   "metadata": {},
   "source": [
    "# Let's pretend the spam includes the list ['a', 'b', 'c', 'd'] for the next three queries"
   ]
  },
  {
   "cell_type": "markdown",
   "id": "d773eaa8",
   "metadata": {},
   "source": [
    "3. What is the value of spam[int(int('3' * 2) / 11)]?"
   ]
  },
  {
   "cell_type": "markdown",
   "id": "6c6ec1db",
   "metadata": {},
   "source": [
    "\"d\""
   ]
  },
  {
   "cell_type": "markdown",
   "id": "8bdcb8f0",
   "metadata": {},
   "source": [
    "4. What is the value of spam[-1]?"
   ]
  },
  {
   "cell_type": "markdown",
   "id": "84665eb0",
   "metadata": {},
   "source": [
    "\"d\""
   ]
  },
  {
   "cell_type": "markdown",
   "id": "a22966ee",
   "metadata": {},
   "source": [
    "5. What is the value of spam[:2]?"
   ]
  },
  {
   "cell_type": "code",
   "execution_count": 12,
   "id": "57de0a36",
   "metadata": {},
   "outputs": [
    {
     "data": {
      "text/plain": [
       "['a', 'b']"
      ]
     },
     "execution_count": 12,
     "metadata": {},
     "output_type": "execute_result"
    }
   ],
   "source": [
    "spam=['a', 'b', 'c', 'd']\n",
    "spam[:2]"
   ]
  },
  {
   "cell_type": "markdown",
   "id": "f0792794",
   "metadata": {},
   "source": [
    "# Let's pretend bacon has the list [3.14, 'cat,' 11, 'cat,' True] for the next three questions."
   ]
  },
  {
   "cell_type": "markdown",
   "id": "a38a4e9f",
   "metadata": {},
   "source": [
    "6. What is the value of bacon.index('cat')?"
   ]
  },
  {
   "cell_type": "code",
   "execution_count": 22,
   "id": "70bf4abc",
   "metadata": {},
   "outputs": [
    {
     "data": {
      "text/plain": [
       "1"
      ]
     },
     "execution_count": 22,
     "metadata": {},
     "output_type": "execute_result"
    }
   ],
   "source": [
    "bacon= [3.14, 'cat' ,11, 'cat', True]\n",
    "bacon.index('cat')"
   ]
  },
  {
   "cell_type": "markdown",
   "id": "333d9279",
   "metadata": {},
   "source": [
    "But i have corrected the given list it has typo error"
   ]
  },
  {
   "cell_type": "markdown",
   "id": "623e03a0",
   "metadata": {},
   "source": [
    "7. How does bacon.append(99) change the look of the list value in bacon?"
   ]
  },
  {
   "cell_type": "code",
   "execution_count": 25,
   "id": "902e3ee9",
   "metadata": {},
   "outputs": [
    {
     "data": {
      "text/plain": [
       "[3.14, 'cat', 11, 'cat', True, 99, 99]"
      ]
     },
     "execution_count": 25,
     "metadata": {},
     "output_type": "execute_result"
    }
   ],
   "source": [
    "bacon.append(99)\n",
    "bacon"
   ]
  },
  {
   "cell_type": "markdown",
   "id": "1cc16328",
   "metadata": {},
   "source": [
    "8. How does bacon.remove('cat') change the look of the list in bacon?"
   ]
  },
  {
   "cell_type": "code",
   "execution_count": 26,
   "id": "054f9954",
   "metadata": {},
   "outputs": [
    {
     "data": {
      "text/plain": [
       "[3.14, 11, 'cat', True, 99, 99]"
      ]
     },
     "execution_count": 26,
     "metadata": {},
     "output_type": "execute_result"
    }
   ],
   "source": [
    " bacon.remove('cat')\n",
    "bacon"
   ]
  },
  {
   "cell_type": "markdown",
   "id": "28e6e997",
   "metadata": {},
   "source": [
    "# 9. What are the list concatenation and list replication operators? "
   ]
  },
  {
   "cell_type": "markdown",
   "id": "160ebb07",
   "metadata": {},
   "source": [
    "The list concatenation operator in Python is the plus (+) operator, which allows you to combine two or more lists into a single list. Here's an example:"
   ]
  },
  {
   "cell_type": "code",
   "execution_count": 27,
   "id": "43e49940",
   "metadata": {},
   "outputs": [
    {
     "name": "stdout",
     "output_type": "stream",
     "text": [
      "[1, 2, 3, 4, 5, 6]\n"
     ]
    }
   ],
   "source": [
    "list1 = [1, 2, 3]\n",
    "list2 = [4, 5, 6]\n",
    "list3 = list1 + list2\n",
    "print(list3)  # Output: [1, 2, 3, 4, 5, 6]\n"
   ]
  },
  {
   "cell_type": "markdown",
   "id": "ba42608d",
   "metadata": {},
   "source": [
    "The list replication operator in Python is the asterisk (*) operator, which allows you to create a new list by repeating the elements of an existing list multiple times. Here's an example:"
   ]
  },
  {
   "cell_type": "code",
   "execution_count": 28,
   "id": "f939e5e2",
   "metadata": {},
   "outputs": [
    {
     "name": "stdout",
     "output_type": "stream",
     "text": [
      "[1, 2, 3, 1, 2, 3, 1, 2, 3]\n"
     ]
    }
   ],
   "source": [
    "list1 = [1, 2, 3]\n",
    "list2 = list1 * 3\n",
    "print(list2)  # Output: [1, 2, 3, 1, 2, 3, 1, 2, 3]\n"
   ]
  },
  {
   "cell_type": "markdown",
   "id": "5d6bd6ea",
   "metadata": {},
   "source": [
    "# 10. What is difference between the list methods append() and insert()?"
   ]
  },
  {
   "cell_type": "markdown",
   "id": "a75c3de5",
   "metadata": {},
   "source": [
    "The append() and insert() methods are both used to add elements to a list in Python, but they differ in how they add elements to the list.\n",
    "\n",
    "append(): The append() method is used to add an element to the end of a list. It takes a single argument, which is the element to be added to the list, and appends it to the end of the list. Here's an example:"
   ]
  },
  {
   "cell_type": "code",
   "execution_count": 29,
   "id": "6175f292",
   "metadata": {},
   "outputs": [
    {
     "name": "stdout",
     "output_type": "stream",
     "text": [
      "[1, 2, 3, 4]\n"
     ]
    }
   ],
   "source": [
    "my_list = [1, 2, 3]\n",
    "my_list.append(4)\n",
    "print(my_list)  # Output: [1, 2, 3, 4]\n"
   ]
  },
  {
   "cell_type": "markdown",
   "id": "5b6388e7",
   "metadata": {},
   "source": [
    "insert(): The insert() method is used to add an element at a specific index in a list. It takes two arguments, the first one being the index at which the element should be inserted, and the second one being the element to be inserted. Here's an example:"
   ]
  },
  {
   "cell_type": "code",
   "execution_count": 30,
   "id": "b3a00746",
   "metadata": {},
   "outputs": [
    {
     "name": "stdout",
     "output_type": "stream",
     "text": [
      "[1, 4, 2, 3]\n"
     ]
    }
   ],
   "source": [
    "my_list = [1, 2, 3]\n",
    "my_list.insert(1, 4)\n",
    "print(my_list)  # Output: [1, 4, 2, 3]\n"
   ]
  },
  {
   "cell_type": "markdown",
   "id": "940b456a",
   "metadata": {},
   "source": [
    "# 11. What are the two methods for removing items from a list?"
   ]
  },
  {
   "cell_type": "markdown",
   "id": "c1eaaf8f",
   "metadata": {},
   "source": [
    "here are two main methods for removing items from a list in Python:\n",
    "\n",
    "remove(): The remove() method is used to remove the first occurrence of a specified value from a list. It takes a single argument, which is the value to be removed from the list. If the specified value is found in the list, it is removed, and if it occurs multiple times in the list, only the first occurrence is removed. Here's an example:"
   ]
  },
  {
   "cell_type": "code",
   "execution_count": 31,
   "id": "787bf1ff",
   "metadata": {},
   "outputs": [
    {
     "name": "stdout",
     "output_type": "stream",
     "text": [
      "[1, 2, 4, 5]\n"
     ]
    }
   ],
   "source": [
    "my_list = [1, 2, 3, 4, 5]\n",
    "my_list.remove(3)\n",
    "print(my_list)  # Output: [1, 2, 4, 5]\n"
   ]
  },
  {
   "cell_type": "markdown",
   "id": "aa3fbb12",
   "metadata": {},
   "source": [
    "pop(): The pop() method is used to remove an element from a specific index in a list and returns its value. It takes an optional argument, which is the index of the element to be removed. If no index is specified, the last element of the list is removed by default. Here's an example:"
   ]
  },
  {
   "cell_type": "code",
   "execution_count": 32,
   "id": "99239b3a",
   "metadata": {},
   "outputs": [
    {
     "name": "stdout",
     "output_type": "stream",
     "text": [
      "3\n",
      "[1, 2, 4, 5]\n"
     ]
    }
   ],
   "source": [
    "my_list = [1, 2, 3, 4, 5]\n",
    "removed_element = my_list.pop(2)\n",
    "print(removed_element)  # Output: 3\n",
    "print(my_list)  # Output: [1, 2, 4, 5]\n"
   ]
  },
  {
   "cell_type": "markdown",
   "id": "38f70184",
   "metadata": {},
   "source": [
    "# 12. Describe how list values and string values are identical."
   ]
  },
  {
   "cell_type": "markdown",
   "id": "3b675128",
   "metadata": {},
   "source": [
    "List values and string values in Python have some similarities:\n",
    "\n",
    "Both lists and strings are sequences of values: Lists are sequences of values enclosed in square brackets ([]), and strings are sequences of characters enclosed in single quotes (' ') or double quotes (\" \").\n",
    "\n",
    "Both lists and strings can be accessed using indexing: Elements in both lists and strings can be accessed using index values. Indexing starts from 0 for the first element, 1 for the second element, and so on.\n",
    "\n",
    "Both lists and strings support slicing: Slicing allows you to extract a portion of a list or a string by specifying a range of indices. Slicing syntax is similar for both lists and strings, using a colon (:) to specify the range.\n",
    "\n",
    "Both lists and strings are mutable (in some cases): Lists are mutable, meaning that you can modify their elements by assigning new values to specific indices. Strings, on the other hand, are immutable, which means that you cannot modify individual characters in a string directly. However, you can create a new string with desired modifications.\n",
    "\n",
    "Both lists and strings have built-in methods: Both lists and strings have various built-in methods that can be used to manipulate and operate on their values. For example, methods like len(), append(), count(), join(), etc., are common to both lists and strings."
   ]
  },
  {
   "cell_type": "markdown",
   "id": "9fb5eba4",
   "metadata": {},
   "source": [
    "# 13. What's the difference between tuples and lists?"
   ]
  },
  {
   "cell_type": "markdown",
   "id": "ac329be7",
   "metadata": {},
   "source": [
    "Tuples and lists are both data structures in Python that can be used to store and manipulate collections of values. However, there are several differences between tuples and lists:\n",
    "\n",
    "Mutability: One key difference between tuples and lists is that tuples are immutable, while lists are mutable. This means that once a tuple is created, its elements cannot be changed, added, or removed. In contrast, elements in a list can be modified, added, or removed after the list is created.\n",
    "\n",
    "Syntax: Tuples are defined using parentheses () or the tuple() constructor, while lists are defined using square brackets [] or the list() constructor.\n",
    "\n",
    "Performance: Tuples are generally more memory efficient and faster than lists, as they are immutable and have a fixed size. Lists, being mutable, may require more memory and may have slower performance, especially for large collections of data.\n",
    "\n",
    "Methods: Lists have more built-in methods compared to tuples. For example, lists have methods like append(), extend(), insert(), remove(), and pop() that can be used to modify the list, while tuples have limited methods due to their immutable nature.\n",
    "\n",
    "Use case: Tuples are typically used for collections of values that need to be stored together as a single entity and are not meant to be modified, such as coordinates, dates, or configuration settings. Lists, on the other hand, are more suitable for collections of values that may need to be modified, such as lists of items, data records, or results of computations."
   ]
  },
  {
   "cell_type": "markdown",
   "id": "086984d0",
   "metadata": {},
   "source": [
    "# 14. How do you type a tuple value that only contains the integer 42?"
   ]
  },
  {
   "cell_type": "code",
   "execution_count": 35,
   "id": "350a998a",
   "metadata": {},
   "outputs": [
    {
     "data": {
      "text/plain": [
       "tuple"
      ]
     },
     "execution_count": 35,
     "metadata": {},
     "output_type": "execute_result"
    }
   ],
   "source": [
    "t=(42,)\n",
    "type(t)"
   ]
  },
  {
   "cell_type": "markdown",
   "id": "340212c8",
   "metadata": {},
   "source": [
    "# 15. How do you get a list value's tuple form? How do you get a tuple value's list form?"
   ]
  },
  {
   "cell_type": "code",
   "execution_count": 39,
   "id": "a8800a69",
   "metadata": {},
   "outputs": [
    {
     "data": {
      "text/plain": [
       "[54, 23, 78, 4, 89, 56, 'ng']"
      ]
     },
     "execution_count": 39,
     "metadata": {},
     "output_type": "execute_result"
    }
   ],
   "source": [
    "#By just tpecasting\n",
    "a=(54,23,78,4,89,56,\"ng\")\n",
    "b=list(a)\n",
    "b\n",
    "#similarly we can do for tuple also:"
   ]
  },
  {
   "cell_type": "markdown",
   "id": "32e86726",
   "metadata": {},
   "source": [
    "# 16. Variables that \"contain\" list values are not necessarily lists themselves. Instead, what do they contain?"
   ]
  },
  {
   "cell_type": "markdown",
   "id": "57c9a2dc",
   "metadata": {},
   "source": [
    "In Python, variables that \"contain\" list values actually store references or pointers to the memory location where the list object is stored, rather than storing the actual list values themselves. This means that variables that reference a list actually contain memory addresses or references to the location in memory where the list object is stored, rather than the list values directly.\n",
    "\n",
    "For example, consider the following code:"
   ]
  },
  {
   "cell_type": "code",
   "execution_count": 42,
   "id": "53fd08f3",
   "metadata": {},
   "outputs": [],
   "source": [
    "list1 = [1, 2, 3, 4, 5]\n",
    "list2 = list1\n"
   ]
  },
  {
   "cell_type": "markdown",
   "id": "27bc2ffe",
   "metadata": {},
   "source": [
    "In this case, list1 and list2 are two variables that reference the same list object in memory. They do not contain the list values themselves, but rather references to the memory location where the list object with the values [1, 2, 3, 4, 5] is stored."
   ]
  },
  {
   "cell_type": "markdown",
   "id": "b4928c43",
   "metadata": {},
   "source": [
    "# 17. How do you distinguish between copy.copy() and copy.deepcopy()?"
   ]
  },
  {
   "cell_type": "markdown",
   "id": "60265337",
   "metadata": {},
   "source": [
    "In Python, copy.copy() and copy.deepcopy() are two methods from the copy module that are used for creating copies of objects. However, they behave differently in terms of how they handle mutable objects and nested objects:\n",
    "\n",
    "copy.copy(): This method creates a shallow copy of an object. A shallow copy creates a new object but does not create new copies of mutable objects (such as lists or dictionaries) inside the original object. Instead, the mutable objects inside the copy still reference the same objects as the original object. In other words, changes made to mutable objects inside the copy will affect the original object and vice versa. However, the top-level object itself is a new object and not a reference to the original object.\n",
    "\n",
    "copy.deepcopy(): This method creates a deep copy of an object. A deep copy creates a new object and recursively creates new copies of all mutable objects (such as lists or dictionaries) inside the original object. This means that changes made to mutable objects inside the deep copy will not affect the original object, as they refer to different objects in memory. Deep copying can be useful when you need to create independent copies of complex objects with multiple levels of nesting."
   ]
  },
  {
   "cell_type": "code",
   "execution_count": null,
   "id": "da3ec423",
   "metadata": {},
   "outputs": [],
   "source": []
  }
 ],
 "metadata": {
  "kernelspec": {
   "display_name": "Python 3 (ipykernel)",
   "language": "python",
   "name": "python3"
  },
  "language_info": {
   "codemirror_mode": {
    "name": "ipython",
    "version": 3
   },
   "file_extension": ".py",
   "mimetype": "text/x-python",
   "name": "python",
   "nbconvert_exporter": "python",
   "pygments_lexer": "ipython3",
   "version": "3.10.9"
  }
 },
 "nbformat": 4,
 "nbformat_minor": 5
}
