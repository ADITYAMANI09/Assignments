{
 "cells": [
  {
   "cell_type": "markdown",
   "id": "1396e210",
   "metadata": {},
   "source": [
    "# 1.What are the two values of the Boolean data type? How do you write them?"
   ]
  },
  {
   "cell_type": "markdown",
   "id": "5a74a2fb",
   "metadata": {},
   "source": [
    "The Boolean data type is a data type in computer programming that represents binary or logical values, typically denoted as \"True\" and \"False\". In some programming languages, the values \"True\" and \"False\" are represented using keywords or reserved words, while in others they may be represented using predefined constants or literals."
   ]
  },
  {
   "cell_type": "markdown",
   "id": "ff8a0e05",
   "metadata": {},
   "source": [
    "# 2. What are the three different types of Boolean operators?"
   ]
  },
  {
   "cell_type": "markdown",
   "id": "3da3ae6d",
   "metadata": {},
   "source": [
    "The three different types of Boolean operators, also known as logical operators, are:\n",
    "\n",
    "AND: The AND operator returns \"True\" if both operands are true, and \"False\" otherwise. It is typically denoted using the symbol \"&&\" in most programming languages. For example:"
   ]
  },
  {
   "cell_type": "code",
   "execution_count": 1,
   "id": "9d7f2029",
   "metadata": {},
   "outputs": [
    {
     "data": {
      "text/plain": [
       "False"
      ]
     },
     "execution_count": 1,
     "metadata": {},
     "output_type": "execute_result"
    }
   ],
   "source": [
    "True and True    # returns True\n",
    "True and False   # returns False\n",
    "False and True   # returns False\n",
    "False and False  # returns False"
   ]
  },
  {
   "cell_type": "markdown",
   "id": "18076021",
   "metadata": {},
   "source": [
    "OR: The OR operator returns \"True\" if at least one of the operands is true, and \"False\" otherwise. It is typically denoted using the symbol \"||\" in most programming languages. For example:"
   ]
  },
  {
   "cell_type": "code",
   "execution_count": 2,
   "id": "d55b4531",
   "metadata": {},
   "outputs": [
    {
     "data": {
      "text/plain": [
       "False"
      ]
     },
     "execution_count": 2,
     "metadata": {},
     "output_type": "execute_result"
    }
   ],
   "source": [
    "True or True     # returns True\n",
    "True or False    # returns True\n",
    "False or True    # returns True\n",
    "False or False   # returns False"
   ]
  },
  {
   "cell_type": "markdown",
   "id": "b3f8bd34",
   "metadata": {},
   "source": [
    "NOT: The NOT operator, also known as the negation operator, returns the opposite of the operand's value. If the operand is \"True\", it returns \"False\", and if the operand is \"False\", it returns \"True\". It is typically denoted using the symbol \"!\" in most programming languages. For example:"
   ]
  },
  {
   "cell_type": "code",
   "execution_count": 3,
   "id": "2645947f",
   "metadata": {},
   "outputs": [
    {
     "data": {
      "text/plain": [
       "True"
      ]
     },
     "execution_count": 3,
     "metadata": {},
     "output_type": "execute_result"
    }
   ],
   "source": [
    "not True   # returns False\n",
    "not False  # returns True\n"
   ]
  },
  {
   "cell_type": "markdown",
   "id": "f8f44d3c",
   "metadata": {},
   "source": [
    "# 3. Make a list of each Boolean operator's truth tables (i.e. every possible combination of Boolean values for the operator and what it evaluate."
   ]
  },
  {
   "cell_type": "raw",
   "id": "77ed257c",
   "metadata": {},
   "source": [
    "AND operator\n",
    "\n",
    "Operand1      Operand2    Results\n",
    "True          True         true\n",
    "true          false        false\n",
    "false         true         false\n",
    "false         false        false\n",
    "\n",
    "OR operator\n",
    "true          true         true\n",
    "true          false        true\n",
    "false         true         true\n",
    "false         false        false\n",
    "\n",
    "NOT operator\n",
    "\n",
    "true                       false\n",
    "false                      true"
   ]
  },
  {
   "cell_type": "markdown",
   "id": "bbd83fd5",
   "metadata": {},
   "source": [
    "# 4. What are the values of the following expressions?"
   ]
  },
  {
   "cell_type": "code",
   "execution_count": 5,
   "id": "cca83ebd",
   "metadata": {},
   "outputs": [
    {
     "data": {
      "text/plain": [
       "False"
      ]
     },
     "execution_count": 5,
     "metadata": {},
     "output_type": "execute_result"
    }
   ],
   "source": [
    "(5 > 4) and (3 == 5)"
   ]
  },
  {
   "cell_type": "code",
   "execution_count": 6,
   "id": "78ac5358",
   "metadata": {},
   "outputs": [
    {
     "data": {
      "text/plain": [
       "False"
      ]
     },
     "execution_count": 6,
     "metadata": {},
     "output_type": "execute_result"
    }
   ],
   "source": [
    "not (5 > 4)"
   ]
  },
  {
   "cell_type": "code",
   "execution_count": 7,
   "id": "8266c242",
   "metadata": {},
   "outputs": [
    {
     "data": {
      "text/plain": [
       "True"
      ]
     },
     "execution_count": 7,
     "metadata": {},
     "output_type": "execute_result"
    }
   ],
   "source": [
    "(5 > 4) or (3 == 5)"
   ]
  },
  {
   "cell_type": "code",
   "execution_count": 8,
   "id": "e93d944f",
   "metadata": {},
   "outputs": [
    {
     "data": {
      "text/plain": [
       "False"
      ]
     },
     "execution_count": 8,
     "metadata": {},
     "output_type": "execute_result"
    }
   ],
   "source": [
    "not ((5 > 4) or (3 == 5))"
   ]
  },
  {
   "cell_type": "code",
   "execution_count": 9,
   "id": "ecff13fb",
   "metadata": {},
   "outputs": [
    {
     "data": {
      "text/plain": [
       "False"
      ]
     },
     "execution_count": 9,
     "metadata": {},
     "output_type": "execute_result"
    }
   ],
   "source": [
    "(True and True) and (True == False)"
   ]
  },
  {
   "cell_type": "code",
   "execution_count": 10,
   "id": "8fcb380a",
   "metadata": {},
   "outputs": [
    {
     "data": {
      "text/plain": [
       "True"
      ]
     },
     "execution_count": 10,
     "metadata": {},
     "output_type": "execute_result"
    }
   ],
   "source": [
    "(not False) or (not True)"
   ]
  },
  {
   "cell_type": "markdown",
   "id": "c17a3012",
   "metadata": {},
   "source": [
    "# 5. What are the six comparison operators?"
   ]
  },
  {
   "cell_type": "markdown",
   "id": "07de50d4",
   "metadata": {},
   "source": [
    "The six comparison operators, also known as relational operators, are used in computer programming to compare two values and determine the relationship between them. The six comparison operators are:"
   ]
  },
  {
   "cell_type": "markdown",
   "id": "0a375f08",
   "metadata": {},
   "source": [
    "1.Equal to (==): This operator checks if two values are equal and returns True if they are, and False otherwise. For example:"
   ]
  },
  {
   "cell_type": "code",
   "execution_count": 11,
   "id": "9ed22590",
   "metadata": {},
   "outputs": [
    {
     "data": {
      "text/plain": [
       "False"
      ]
     },
     "execution_count": 11,
     "metadata": {},
     "output_type": "execute_result"
    }
   ],
   "source": [
    "2 == 2  # returns True\n",
    "3 == 4  # returns False"
   ]
  },
  {
   "cell_type": "markdown",
   "id": "15d5a719",
   "metadata": {},
   "source": [
    "2.Not equal to (!=): This operator checks if two values are not equal and returns True if they are not, and False otherwise. For example:"
   ]
  },
  {
   "cell_type": "code",
   "execution_count": 12,
   "id": "795122fb",
   "metadata": {},
   "outputs": [
    {
     "data": {
      "text/plain": [
       "False"
      ]
     },
     "execution_count": 12,
     "metadata": {},
     "output_type": "execute_result"
    }
   ],
   "source": [
    "2 != 3  # returns True\n",
    "4 != 4  # returns False\n"
   ]
  },
  {
   "cell_type": "markdown",
   "id": "310ca152",
   "metadata": {},
   "source": [
    "3.Greater than (>): This operator checks if the value on the left is greater than the value on the right, and returns True if it is, and False otherwise. For example:"
   ]
  },
  {
   "cell_type": "code",
   "execution_count": 13,
   "id": "59a5685f",
   "metadata": {},
   "outputs": [
    {
     "data": {
      "text/plain": [
       "False"
      ]
     },
     "execution_count": 13,
     "metadata": {},
     "output_type": "execute_result"
    }
   ],
   "source": [
    "5 > 3  # returns True\n",
    "2 > 7  # returns False\n"
   ]
  },
  {
   "cell_type": "markdown",
   "id": "7d9f6eec",
   "metadata": {},
   "source": [
    "4.Less than (<): This operator checks if the value on the left is less than the value on the right, and returns True if it is, and False otherwise. For example:"
   ]
  },
  {
   "cell_type": "code",
   "execution_count": 14,
   "id": "8ea2be40",
   "metadata": {},
   "outputs": [
    {
     "data": {
      "text/plain": [
       "False"
      ]
     },
     "execution_count": 14,
     "metadata": {},
     "output_type": "execute_result"
    }
   ],
   "source": [
    "3 < 5  # returns True\n",
    "8 < 2  # returns False\n"
   ]
  },
  {
   "cell_type": "markdown",
   "id": "78a7e85c",
   "metadata": {},
   "source": [
    "5.Greater than or equal to (>=): This operator checks if the value on the left is greater than or equal to the value on the right, and returns True if it is, and False otherwise. For example:"
   ]
  },
  {
   "cell_type": "code",
   "execution_count": 15,
   "id": "55687630",
   "metadata": {},
   "outputs": [
    {
     "data": {
      "text/plain": [
       "False"
      ]
     },
     "execution_count": 15,
     "metadata": {},
     "output_type": "execute_result"
    }
   ],
   "source": [
    "5 >= 3  # returns True\n",
    "2 >= 7  # returns False\n"
   ]
  },
  {
   "cell_type": "markdown",
   "id": "96ca9add",
   "metadata": {},
   "source": [
    "6.Less than or equal to (<=): This operator checks if the value on the left is less than or equal to the value on the right, and returns True if it is, and False otherwise. For example:"
   ]
  },
  {
   "cell_type": "code",
   "execution_count": 16,
   "id": "72d3bd87",
   "metadata": {},
   "outputs": [
    {
     "data": {
      "text/plain": [
       "False"
      ]
     },
     "execution_count": 16,
     "metadata": {},
     "output_type": "execute_result"
    }
   ],
   "source": [
    "3 <= 5  # returns True\n",
    "8 <= 2  # returns False\n"
   ]
  },
  {
   "cell_type": "markdown",
   "id": "a6eda917",
   "metadata": {},
   "source": [
    "# 6. How do you tell the difference between the equal to and assignment operators? Describe a condition and when you would use one."
   ]
  },
  {
   "cell_type": "markdown",
   "id": "5d63ac7c",
   "metadata": {},
   "source": [
    "The equal to (==) and assignment (=) operators are both used in computer programming, but they serve different purposes and have different behaviors. Here's how you can tell the difference between the two:\n",
    "\n",
    "1.Equal to (==) operator: The equal to operator is used to compare two values for equality. It returns True if the values are equal and False otherwise. The equal to operator is used in conditional statements or expressions to check if two values are equal. For example:"
   ]
  },
  {
   "cell_type": "code",
   "execution_count": 17,
   "id": "77754bac",
   "metadata": {},
   "outputs": [
    {
     "name": "stdout",
     "output_type": "stream",
     "text": [
      "x is not equal to y\n"
     ]
    }
   ],
   "source": [
    "x = 5\n",
    "y = 7\n",
    "\n",
    "if x == y:\n",
    "    print(\"x is equal to y\")\n",
    "else:\n",
    "    print(\"x is not equal to y\")\n"
   ]
  },
  {
   "cell_type": "markdown",
   "id": "dda40b8a",
   "metadata": {},
   "source": [
    "In the above example, the equal to operator (==) is used to compare the values of x and y to check if they are equal.\n",
    "\n",
    "2.Assignment (=) operator: The assignment operator is used to assign a value to a variable. It takes the value on the right-hand side and assigns it to the variable on the left-hand side. For example:"
   ]
  },
  {
   "cell_type": "code",
   "execution_count": 19,
   "id": "4cc39036",
   "metadata": {},
   "outputs": [
    {
     "data": {
      "text/plain": [
       "5"
      ]
     },
     "execution_count": 19,
     "metadata": {},
     "output_type": "execute_result"
    }
   ],
   "source": [
    "x = 5\n",
    "x"
   ]
  },
  {
   "cell_type": "markdown",
   "id": "71a08972",
   "metadata": {},
   "source": [
    "In the above example, the value 5 is assigned to the variable x using the assignment operator (=)."
   ]
  },
  {
   "cell_type": "markdown",
   "id": "776acf86",
   "metadata": {},
   "source": [
    "# 7. Identify the three blocks in this code:"
   ]
  },
  {
   "cell_type": "markdown",
   "id": "b42ee9cd",
   "metadata": {},
   "source": [
    "Block 1:"
   ]
  },
  {
   "cell_type": "code",
   "execution_count": 22,
   "id": "609c2f19",
   "metadata": {},
   "outputs": [],
   "source": [
    "spam=0\n",
    "if spam == 10:\n",
    "    print('eggs')\n"
   ]
  },
  {
   "cell_type": "markdown",
   "id": "812703d7",
   "metadata": {},
   "source": [
    "Block 2:"
   ]
  },
  {
   "cell_type": "code",
   "execution_count": 23,
   "id": "79e01e7d",
   "metadata": {},
   "outputs": [
    {
     "name": "stdout",
     "output_type": "stream",
     "text": [
      "ham\n"
     ]
    }
   ],
   "source": [
    "if spam > 5:\n",
    "    print('bacon')\n",
    "else:\n",
    "    print('ham')\n"
   ]
  },
  {
   "cell_type": "markdown",
   "id": "cb318abd",
   "metadata": {},
   "source": [
    "Block:3"
   ]
  },
  {
   "cell_type": "code",
   "execution_count": 24,
   "id": "02073f01",
   "metadata": {},
   "outputs": [
    {
     "name": "stdout",
     "output_type": "stream",
     "text": [
      "spam\n",
      "spam\n"
     ]
    }
   ],
   "source": [
    "print('spam')\n",
    "print('spam')\n"
   ]
  },
  {
   "cell_type": "markdown",
   "id": "a3e4da7a",
   "metadata": {},
   "source": [
    "# 8. Write code that prints Hello if 1 is stored in spam, prints Howdy if 2 is stored in spam, and prints Greetings! if anything else is stored in spam."
   ]
  },
  {
   "cell_type": "code",
   "execution_count": 25,
   "id": "1cce0669",
   "metadata": {},
   "outputs": [
    {
     "name": "stdout",
     "output_type": "stream",
     "text": [
      "Hello\n"
     ]
    }
   ],
   "source": [
    "spam = 1  # or any other value\n",
    "\n",
    "if spam == 1:\n",
    "    print(\"Hello\")\n",
    "elif spam == 2:\n",
    "    print(\"Howdy\")\n",
    "else:\n",
    "    print(\"Greetings!\")\n"
   ]
  },
  {
   "cell_type": "code",
   "execution_count": null,
   "id": "a1bff71e",
   "metadata": {},
   "outputs": [],
   "source": []
  }
 ],
 "metadata": {
  "kernelspec": {
   "display_name": "Python 3 (ipykernel)",
   "language": "python",
   "name": "python3"
  },
  "language_info": {
   "codemirror_mode": {
    "name": "ipython",
    "version": 3
   },
   "file_extension": ".py",
   "mimetype": "text/x-python",
   "name": "python",
   "nbconvert_exporter": "python",
   "pygments_lexer": "ipython3",
   "version": "3.10.9"
  }
 },
 "nbformat": 4,
 "nbformat_minor": 5
}
