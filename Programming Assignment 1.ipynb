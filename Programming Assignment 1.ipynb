{
 "cells": [
  {
   "cell_type": "markdown",
   "id": "6e9c154f",
   "metadata": {},
   "source": [
    "# 1.\tWrite a Python program to print \"Hello Python\"?"
   ]
  },
  {
   "cell_type": "code",
   "execution_count": 1,
   "id": "092ba31d",
   "metadata": {},
   "outputs": [
    {
     "name": "stdout",
     "output_type": "stream",
     "text": [
      "Hello Python\n"
     ]
    }
   ],
   "source": [
    "print(\"Hello Python\")"
   ]
  },
  {
   "cell_type": "markdown",
   "id": "84fa5492",
   "metadata": {},
   "source": [
    "# 2.\tWrite a Python program to do arithmetical operations addition and division.?"
   ]
  },
  {
   "cell_type": "code",
   "execution_count": 6,
   "id": "6284e5ec",
   "metadata": {},
   "outputs": [
    {
     "name": "stdout",
     "output_type": "stream",
     "text": [
      "\n",
      "Enter  a number 146\n",
      "\n",
      "Enter  another  number 915\n",
      "the sum of a and b : 1061 \n",
      " Division of a and b are : 0.15956284153005465\n"
     ]
    }
   ],
   "source": [
    "#Arithmetical operations addition and division\n",
    "a=int(input(\"\\nEnter  a number \"))\n",
    "b=int(input(\"\\nEnter  another  number \"))\n",
    "print(\"the sum of a and b :\",a+b,\"\\n Division of a and b are :\",a/b)"
   ]
  },
  {
   "cell_type": "markdown",
   "id": "194cc451",
   "metadata": {},
   "source": [
    "# 3.\tWrite a Python program to find the area of a triangle?"
   ]
  },
  {
   "cell_type": "code",
   "execution_count": 7,
   "id": "98beb6a5",
   "metadata": {},
   "outputs": [
    {
     "name": "stdout",
     "output_type": "stream",
     "text": [
      "Enter the base of the triangle: 65\n",
      "Enter the height of the triangle: 62\n",
      "The area of the triangle is: 2015.0\n"
     ]
    }
   ],
   "source": [
    "# Input base and height of the triangle\n",
    "base = float(input(\"Enter the base of the triangle: \"))\n",
    "height = float(input(\"Enter the height of the triangle: \"))\n",
    "\n",
    "# Calculate the area of the triangle\n",
    "area = 0.5 * base * height\n",
    "\n",
    "# Print the result\n",
    "print(\"The area of the triangle is:\", area)\n"
   ]
  },
  {
   "cell_type": "markdown",
   "id": "17c68b71",
   "metadata": {},
   "source": [
    "# 4.Write a Python program to swap two variables?"
   ]
  },
  {
   "cell_type": "code",
   "execution_count": 29,
   "id": "e0d92d34",
   "metadata": {},
   "outputs": [
    {
     "name": "stdout",
     "output_type": "stream",
     "text": [
      "Enter value of Variable 1 45\n",
      "Enter value of variable 2 65\n",
      "After swapping value of variable1 and variable 2 are:  65 45\n"
     ]
    }
   ],
   "source": [
    "#Program for swaping of two variable:\n",
    "a=int(input(\"Enter value of Variable 1 \"))\n",
    "b=int(input(\"Enter value of variable 2 \"))\n",
    "c=a\n",
    "a=b\n",
    "b=c\n",
    "print(\"After swapping value of variable1 and variable 2 are: \",a,b)"
   ]
  },
  {
   "cell_type": "markdown",
   "id": "e2939922",
   "metadata": {},
   "source": [
    "# 5.\tWrite a Python program to generate a random number?"
   ]
  },
  {
   "cell_type": "code",
   "execution_count": 35,
   "id": "fe7dbd0e",
   "metadata": {},
   "outputs": [
    {
     "name": "stdout",
     "output_type": "stream",
     "text": [
      "Random Number: 31\n"
     ]
    }
   ],
   "source": [
    "import random\n",
    "\n",
    "# Generate a random integer between 1 and 100\n",
    "random_number = random.randint(1, 100)\n",
    "\n",
    "print(\"Random Number:\", random_number)\n"
   ]
  }
 ],
 "metadata": {
  "kernelspec": {
   "display_name": "Python 3 (ipykernel)",
   "language": "python",
   "name": "python3"
  },
  "language_info": {
   "codemirror_mode": {
    "name": "ipython",
    "version": 3
   },
   "file_extension": ".py",
   "mimetype": "text/x-python",
   "name": "python",
   "nbconvert_exporter": "python",
   "pygments_lexer": "ipython3",
   "version": "3.10.9"
  }
 },
 "nbformat": 4,
 "nbformat_minor": 5
}
