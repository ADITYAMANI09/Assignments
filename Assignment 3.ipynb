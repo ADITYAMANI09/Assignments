{
 "cells": [
  {
   "cell_type": "markdown",
   "id": "b56e097b",
   "metadata": {},
   "source": [
    "# 1. Why are functions advantageous to have in your programs?"
   ]
  },
  {
   "cell_type": "markdown",
   "id": "c27a0aa8",
   "metadata": {},
   "source": [
    "Functions are advantageous to have in programs for several reasons:\n",
    "\n",
    "*Code reusability: Functions allow you to encapsulate a block of code that performs a specific task or functionality, which can be reused multiple times in different parts of a program or in different programs altogether. This promotes code reusability, as you can avoid duplicating code and instead define a function once and call it whenever needed. This can lead to more efficient and maintainable code.\n",
    "\n",
    "*Modularity and abstraction: Functions help in breaking down a complex problem into smaller, more manageable pieces of code. Each function can be designed to perform a specific task or solve a particular sub-problem. This promotes modularity and abstraction, making the code easier to understand, test, and maintain. Functions also provide a way to hide the implementation details, allowing you to use functions as building blocks without worrying about the internal logic.\n",
    "\n",
    "*Code organization and readability: Functions allow you to organize your code into smaller, logical units that perform specific tasks. This can greatly improve the readability of your code as it becomes more structured and easier to follow. Functions can also be given meaningful names that indicate their purpose or functionality, making the code more self-explanatory and easier to understand.\n",
    "\n",
    "**Code maintenance and debugging: Functions provide a clear separation of concerns and can be individually tested, modified, or replaced without affecting the rest of the code. This makes it easier to maintain and update code as changes can be localized to specific functions. Functions also help in debugging, as you can isolate issues to specific functions and test them individually to identify and fix problems more efficiently.\n",
    "\n",
    "**Code scalability and extensibility: Functions allow you to write modular and reusable code that can be easily extended or modified to accommodate changes in requirements or business logic. Functions can be added, modified, or replaced as needed, without affecting the rest of the codebase. This promotes code scalability and extensibility, making it easier to adapt your code to evolving needs and requirements.\n",
    "\n",
    "==In summary, functions provide many advantages to programs, including code reusability, modularity and abstraction, code organization and readability, code maintenance and debugging, and code scalability and extensibility. Using functions can result in more efficient, maintainable, and readable code, and help in building robust and scalable software applications."
   ]
  },
  {
   "cell_type": "markdown",
   "id": "f1dc4433",
   "metadata": {},
   "source": [
    "# 2. When does the code in a function run: when it's specified or when it's called?"
   ]
  },
  {
   "cell_type": "markdown",
   "id": "5b78b496",
   "metadata": {},
   "source": [
    "The code in a function runs when it is called, not when it is specified.\n",
    "\n",
    "When you define a function, you are essentially creating a reusable block of code that specifies a certain set of actions or calculations to be performed. This code inside the function is not executed immediately when the function is defined, but rather only when the function is called or invoked during the execution of the program.\n",
    "\n",
    "Once a function is defined, you can call or invoke it by using its name followed by parentheses, optionally passing any required arguments or parameters. When the function is called, the code inside the function's block is executed, and the function performs the actions or calculations as defined. Once the function completes its execution, the program continues to execute the next line of code after the function call."
   ]
  },
  {
   "cell_type": "code",
   "execution_count": 1,
   "id": "859b05ae",
   "metadata": {},
   "outputs": [
    {
     "name": "stdout",
     "output_type": "stream",
     "text": [
      "Hello, John!\n"
     ]
    }
   ],
   "source": [
    "# Function definition\n",
    "def greet(name):\n",
    "    print(\"Hello, \" + name + \"!\")  # Function code\n",
    "\n",
    "# Function call\n",
    "greet(\"John\")  # Function is called with argument \"John\"\n"
   ]
  },
  {
   "cell_type": "markdown",
   "id": "00c54857",
   "metadata": {},
   "source": [
    "# 3. What statement creates a function?"
   ]
  },
  {
   "cell_type": "markdown",
   "id": "91bd1422",
   "metadata": {},
   "source": [
    "the def statement is used to create a function. The def statement is followed by the name of the function, a pair of parentheses, and a colon. The function's code block is indented after the colon, and it contains the set of instructions or calculations that the function should perform."
   ]
  },
  {
   "cell_type": "markdown",
   "id": "e4c5ed32",
   "metadata": {},
   "source": [
    "# 4. What is the difference between a function and a function call?"
   ]
  },
  {
   "cell_type": "markdown",
   "id": "daf3f10f",
   "metadata": {},
   "source": [
    "A function and a function call are related concepts in programming, but they are distinct from each other.\n",
    "\n",
    "Function: A function is a block of code that performs a specific task or set of tasks. It is defined using the def statement in Python and typically has a name, a set of parameters (optional), and a code block that contains the instructions or calculations to be executed when the function is called. A function acts as a reusable piece of code that can be invoked or executed multiple times throughout a program.\n",
    "\n",
    "Function call: A function call, also known as a function invocation, is the act of actually using a function in a program by calling or invoking it. A function call consists of the function's name followed by parentheses, optionally passing any required arguments or parameters. When a function is called, the code inside the function's block is executed, and the function performs the actions or calculations as defined. The function call is the point in the program where the function is executed and produces a result or performs a specific task."
   ]
  },
  {
   "cell_type": "markdown",
   "id": "90a9f9ba",
   "metadata": {},
   "source": [
    "# 5. How many global scopes are there in a Python program? How many local scopes?"
   ]
  },
  {
   "cell_type": "markdown",
   "id": "57df8f47",
   "metadata": {},
   "source": [
    "In a Python program, there can be multiple global scopes and multiple local scopes, depending on how the variables are defined and used.\n",
    "\n",
    "Global scope: A global scope refers to the scope that exists at the top level of a Python program. Variables defined in the global scope are accessible from anywhere in the program, including within functions, classes, and other scopes. There can be only one global scope in a Python program, and variables defined in the global scope can be accessed and modified from any part of the program.\n",
    "\n",
    "Local scope: A local scope refers to the scope that exists within a function or a code block. Variables defined within a function or a code block are only accessible within that function or code block and are not accessible outside of it. Each time a function is called, a new local scope is created, and any variables defined within that function are limited to that specific function call. Once the function call completes, the local scope is destroyed, and the variables defined within it are no longer accessible."
   ]
  },
  {
   "cell_type": "markdown",
   "id": "e0ab4cce",
   "metadata": {},
   "source": [
    "# 6. What happens to variables in a local scope when the function call returns?"
   ]
  },
  {
   "cell_type": "markdown",
   "id": "56fded1c",
   "metadata": {},
   "source": [
    "When a function call returns in Python, the local scope associated with that function call is destroyed, and any variables defined within that local scope cease to exist. This means that the values of the local variables are no longer accessible or available after the function call completes"
   ]
  },
  {
   "cell_type": "code",
   "execution_count": 8,
   "id": "185e8d24",
   "metadata": {},
   "outputs": [
    {
     "name": "stdout",
     "output_type": "stream",
     "text": [
      "Inside the function: x = 10\n"
     ]
    }
   ],
   "source": [
    "def my_function():\n",
    "    x = 10 # local variable defined within the function\n",
    "    print(\"Inside the function: x =\", x)\n",
    "\n",
    "my_function() # function call\n",
    "# Output: Inside the function: x = 10\n",
    "\n",
    "# Accessing the local variable outside the function\n",
    "# Uncomment the following line to see the error\n",
    "# print(\"Outside the function: x =\", x)"
   ]
  },
  {
   "cell_type": "markdown",
   "id": "8463b047",
   "metadata": {},
   "source": [
    "In the above example, x is a local variable defined within the my_function() function. When the function is called, the local variable x is created and assigned the value 10 inside the function. However, once the function call completes, the local scope associated with that function call is destroyed, and the local variable x is no longer accessible. If you try to access x outside of the function, you would get a NameError indicating that the variable is not defined."
   ]
  },
  {
   "cell_type": "markdown",
   "id": "fa040cae",
   "metadata": {},
   "source": [
    "# 7. What is the concept of a return value? Is it possible to have a return value in an expression?"
   ]
  },
  {
   "cell_type": "markdown",
   "id": "9881cfeb",
   "metadata": {},
   "source": [
    "The concept of a return value in Python refers to the value that a function can optionally return to the caller once the function is executed. In other words, it is the value that a function \"returns\" back to the calling code after the function completes its execution.\n",
    "\n",
    "When a function is defined in Python, it can have a return statement that specifies a value to be returned. The return statement is followed by an expression or a value, which can be of any data type (e.g., integer, float, string, list, etc.). When the function is called, and the return statement is executed, the function immediately exits, and the specified value is returned to the caller as the result of the function call.\n",
    "\n",
    "Here's an example of a function with a return statement:"
   ]
  },
  {
   "cell_type": "code",
   "execution_count": 10,
   "id": "c4ad1e1e",
   "metadata": {},
   "outputs": [
    {
     "name": "stdout",
     "output_type": "stream",
     "text": [
      "Sum: 27\n"
     ]
    }
   ],
   "source": [
    "def add_numbers(a, b):\n",
    "    result = a + b\n",
    "    return result\n",
    "\n",
    "sum = add_numbers(5, 22)\n",
    "print(\"Sum:\", sum)\n",
    "# Output: Sum: 12\n"
   ]
  },
  {
   "cell_type": "markdown",
   "id": "d8f686f1",
   "metadata": {},
   "source": [
    "# 8. If a function does not have a return statement, what is the return value of a call to that function?"
   ]
  },
  {
   "cell_type": "markdown",
   "id": "0d3a14b1",
   "metadata": {},
   "source": [
    "If a function in Python does not have a return statement, or if the return statement does not specify any value to be returned, the function call will return None by default.\n",
    "\n",
    "Here's an example:"
   ]
  },
  {
   "cell_type": "code",
   "execution_count": 16,
   "id": "6df67268",
   "metadata": {},
   "outputs": [
    {
     "name": "stdout",
     "output_type": "stream",
     "text": [
      "Hello, Rice!\n",
      "Result: None\n"
     ]
    }
   ],
   "source": [
    "def greet(name):\n",
    "    print(\"Hello, \" + name + \"!\")\n",
    "\n",
    "result = greet(\"Rice\")\n",
    "print(\"Result:\", result)\n",
    "# Output: Hello, Rlice!\n",
    "#         Result: None\n"
   ]
  },
  {
   "cell_type": "markdown",
   "id": "3eef5a71",
   "metadata": {},
   "source": [
    "# 9. How do you make a function variable refer to the global variable?"
   ]
  },
  {
   "cell_type": "markdown",
   "id": "768c8e44",
   "metadata": {},
   "source": [
    "In Python, if you want to make a function variable refer to a global variable, you can use the global keyword inside the function. The global keyword tells Python that the variable being referred to is a global variable, rather than a local variable defined within the function.\n",
    "\n",
    "Here's an example:"
   ]
  },
  {
   "cell_type": "code",
   "execution_count": 20,
   "id": "30b4b8c4",
   "metadata": {},
   "outputs": [
    {
     "name": "stdout",
     "output_type": "stream",
     "text": [
      "5\n"
     ]
    }
   ],
   "source": [
    "a = 10  # global variable\n",
    "\n",
    "def func():\n",
    "    global a  # declare global_var as a global variable\n",
    "    l = 5  # local variable\n",
    "    a = l  # assign local_var to global_var\n",
    "\n",
    "func()\n",
    "print(a)\n",
    "# Output: 5\n"
   ]
  },
  {
   "cell_type": "markdown",
   "id": "0a308000",
   "metadata": {},
   "source": [
    "# 10. What is the data type of None?"
   ]
  },
  {
   "cell_type": "markdown",
   "id": "bc7203e4",
   "metadata": {},
   "source": [
    "The data type of None in Python is a special type called NoneType. None is a singleton object that represents the absence of a value or the result of a function that does not return any meaningful value."
   ]
  },
  {
   "cell_type": "code",
   "execution_count": 23,
   "id": "7ef841a6",
   "metadata": {},
   "outputs": [
    {
     "data": {
      "text/plain": [
       "NoneType"
      ]
     },
     "execution_count": 23,
     "metadata": {},
     "output_type": "execute_result"
    }
   ],
   "source": [
    "type(fun())"
   ]
  },
  {
   "cell_type": "markdown",
   "id": "a0bdcc22",
   "metadata": {},
   "source": [
    "# 11. What does the sentence import areallyourpetsnamederic do?"
   ]
  },
  {
   "cell_type": "markdown",
   "id": "56edfda6",
   "metadata": {},
   "source": [
    "The sentence \"import areallyourpetsnamederic\" is not a valid Python import statement because \"areallyourpetsnamederic\" is not a valid Python module or package name. In Python, the import statement is used to bring in external modules or packages into your Python code, which can then be used to access their functions, classes, and variables.\n",
    "\n",
    "Valid import statements typically follow the syntax import <module_name>, where <module_name> is the name of the module or package that you want to import"
   ]
  },
  {
   "cell_type": "markdown",
   "id": "66129b7d",
   "metadata": {},
   "source": [
    "# 12. If you had a bacon() feature in a spam module, what would you call it after importing spam?"
   ]
  },
  {
   "cell_type": "markdown",
   "id": "c23505bc",
   "metadata": {},
   "source": [
    "If I have a bacon() function in a module named spam, after importing the spam module in your Python code, I would call the bacon() function using the dot notation with the module name, followed by the function name, like this:"
   ]
  },
  {
   "cell_type": "raw",
   "id": "d4aee975",
   "metadata": {},
   "source": [
    "import spam  # import the spam module\n",
    "\n",
    "# Call the bacon() function from the spam module\n",
    "spam.bacon()\n"
   ]
  },
  {
   "cell_type": "markdown",
   "id": "3d23cff5",
   "metadata": {},
   "source": [
    "# 13. What can you do to save a programme from crashing if it encounters an error?"
   ]
  },
  {
   "cell_type": "markdown",
   "id": "beba6955",
   "metadata": {},
   "source": [
    "To prevent a program from crashing when encountering an error, you can use error handling techniques in Python. Error handling allows you to gracefully handle exceptions or errors that may occur during the execution of your code, and take appropriate action to recover from the error or handle it in a controlled manner.\n",
    "\n",
    "Here are some techniques you can use to save a program from crashing when encountering an error:\n",
    "\n",
    "Try-Except Blocks: You can use try-except blocks to catch exceptions that may occur during the execution of your code. The try block contains the code that may raise an exception, and the except block specifies the action to be taken when an exception occurs. By catching exceptions, you can prevent the program from crashing and instead execute alternate code or display appropriate error messages.\n",
    "\n",
    "Error Checking: You can use error checking techniques, such as validating user input, checking for valid input values, and verifying data integrity, to prevent errors from occurring in the first place. This can help avoid crashes caused by unexpected input or invalid data.\n",
    "\n",
    "Logging: You can use logging to log errors and exceptions that occur during the execution of your code, instead of crashing the program. This can help you identify and fix issues later, without disrupting the normal flow of your program.\n",
    "\n",
    "Graceful Degradation: You can design your program to gracefully degrade in the presence of errors, by providing fallback options, default values, or alternative paths of execution when errors occur. This can allow your program to continue running and providing partial functionality, instead of crashing completely.\n",
    "\n",
    "Robust Error Handling: You can implement robust error handling techniques, such as retrying failed operations, providing redundant or backup systems, and handling unexpected situations gracefully, to ensure that your program can recover from errors and continue running smoothly."
   ]
  },
  {
   "cell_type": "markdown",
   "id": "ec9d37ac",
   "metadata": {},
   "source": [
    "# 14. What is the purpose of the try clause? What is the purpose of the except clause?"
   ]
  },
  {
   "cell_type": "markdown",
   "id": "d40252ad",
   "metadata": {},
   "source": [
    "In Python, the try and except clauses are used for error handling and exception handling.\n",
    "\n",
    "The purpose of the try clause is to enclose a block of code that may raise an exception during its execution. The code inside the try block is executed sequentially, and if any exception occurs, the code execution is immediately transferred to the except block.\n",
    "\n",
    "The purpose of the except clause is to define the action to be taken when an exception is caught in the corresponding try block. The except block specifies how to handle the exception, which may include logging the error, displaying an error message, taking corrective action, or allowing the program to gracefully degrade or recover from the error. The except block is only executed if an exception is raised in the associated try block."
   ]
  },
  {
   "cell_type": "code",
   "execution_count": null,
   "id": "53d233b7",
   "metadata": {},
   "outputs": [],
   "source": []
  }
 ],
 "metadata": {
  "kernelspec": {
   "display_name": "Python 3 (ipykernel)",
   "language": "python",
   "name": "python3"
  },
  "language_info": {
   "codemirror_mode": {
    "name": "ipython",
    "version": 3
   },
   "file_extension": ".py",
   "mimetype": "text/x-python",
   "name": "python",
   "nbconvert_exporter": "python",
   "pygments_lexer": "ipython3",
   "version": "3.10.9"
  }
 },
 "nbformat": 4,
 "nbformat_minor": 5
}
