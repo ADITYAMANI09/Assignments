{
 "cells": [
  {
   "cell_type": "markdown",
   "id": "ec9f0bab",
   "metadata": {},
   "source": [
    "# 1.\tWrite a Python Program to Find the Factorial of a Number?"
   ]
  },
  {
   "cell_type": "code",
   "execution_count": 15,
   "id": "0277f254",
   "metadata": {},
   "outputs": [
    {
     "name": "stdout",
     "output_type": "stream",
     "text": [
      "Enter a number:\n",
      " 45\n",
      "The factorial of 45 is 119622220865480194561963161495657715064383733760000000000\n"
     ]
    }
   ],
   "source": [
    "def factorial(n):\n",
    "    if n == 0 or n==1:\n",
    "        return 1\n",
    "    else:\n",
    "        return n * factorial(n-1)\n",
    "\n",
    "num = int(input(\"Enter a number:\\n \"))\n",
    "print(\"The factorial of\", num, \"is\", factorial(num))"
   ]
  },
  {
   "cell_type": "markdown",
   "id": "ac234e78",
   "metadata": {},
   "source": [
    "# 2.\tWrite a Python Program to Display the multiplication Table?"
   ]
  },
  {
   "cell_type": "code",
   "execution_count": 33,
   "id": "08739935",
   "metadata": {},
   "outputs": [
    {
     "name": "stdout",
     "output_type": "stream",
     "text": [
      "enter a number\n",
      "100\n",
      "{100} * {1} = 100 \n",
      "\n",
      "{100} * {2} = 200 \n",
      "\n",
      "{100} * {3} = 300 \n",
      "\n",
      "{100} * {4} = 400 \n",
      "\n",
      "{100} * {5} = 500 \n",
      "\n",
      "{100} * {6} = 600 \n",
      "\n",
      "{100} * {7} = 700 \n",
      "\n",
      "{100} * {8} = 800 \n",
      "\n",
      "{100} * {9} = 900 \n",
      "\n",
      "{100} * {10} = 1000 \n",
      "\n"
     ]
    }
   ],
   "source": [
    "a=int(input(\"enter a number\\n\"))\n",
    "for i in range(1,11):\n",
    "    print({a},\"*\",{i},\"=\",a*i,\"\\n\")"
   ]
  },
  {
   "cell_type": "markdown",
   "id": "a72c070b",
   "metadata": {},
   "source": [
    "# 3.\tWrite a Python Program to Print the Fibonacci sequence?"
   ]
  },
  {
   "cell_type": "code",
   "execution_count": 65,
   "id": "0c7f45ba",
   "metadata": {},
   "outputs": [
    {
     "name": "stdout",
     "output_type": "stream",
     "text": [
      "Enter the number of terms you want to print of Fibonacci series\n",
      "32\n",
      "[0, 1, 1, 2, 3, 5, 8, 13, 21, 34, 55, 89, 144, 233, 377, 610, 987, 1597, 2584, 4181, 6765, 10946, 17711, 28657, 46368, 75025, 121393, 196418, 317811, 514229, 832040, 1346269]\n"
     ]
    }
   ],
   "source": [
    "#Python Program to Print the Fibonacci sequence\n",
    "t=int(input(\"Enter the number of terms you want to print of Fibonacci series\\n\"))\n",
    "a=[0,1]\n",
    "for i in a:\n",
    "    if len(a)<t:\n",
    "        a.append((a[-1]+a[-2]))\n",
    "print(a)"
   ]
  },
  {
   "cell_type": "markdown",
   "id": "279cd33e",
   "metadata": {},
   "source": [
    "# 4.\tWrite a Python Program to Check Armstrong Number?"
   ]
  },
  {
   "cell_type": "code",
   "execution_count": 74,
   "id": "e441c453",
   "metadata": {},
   "outputs": [
    {
     "name": "stdout",
     "output_type": "stream",
     "text": [
      "Enter a number\n",
      "9474\n"
     ]
    },
    {
     "data": {
      "text/plain": [
       "('Yes,', {9474}, 'is an Armstrong Number')"
      ]
     },
     "execution_count": 74,
     "metadata": {},
     "output_type": "execute_result"
    }
   ],
   "source": [
    "#Armstrong number is a number that is equal to the sum of (power raised to  its number of digits) of its digits. For example 0, 1, 153, 370, 371 and 407 are the Armstrong numbers.\n",
    "def armstr(a):\n",
    "    if a==0 or a==1:\n",
    "        print(\"entered number is an Armstrong number\")\n",
    "    else:\n",
    "        b=str(a)\n",
    "        sum=0\n",
    "        for i in b:\n",
    "            num=int(i)\n",
    "            sum=sum+num**len(b)\n",
    "        if sum%a==0:\n",
    "            return \"Yes,\",{a},\"is an Armstrong Number\"\n",
    "        else:\n",
    "            return \"No it's not!!\"\n",
    "armstr(int(input(\"Enter a number\\n\")))\n"
   ]
  },
  {
   "cell_type": "markdown",
   "id": "dbc88cbc",
   "metadata": {},
   "source": [
    "# 5.\tWrite a Python Program to Find Armstrong Number in an Interval?"
   ]
  },
  {
   "cell_type": "code",
   "execution_count": 24,
   "id": "593d085d",
   "metadata": {},
   "outputs": [
    {
     "name": "stdout",
     "output_type": "stream",
     "text": [
      "Enter start of interval\n",
      "0\n",
      "Enter end of interval\n",
      "400\n",
      "[0, 1, 2, 3, 4, 5, 6, 7, 8, 9, 153, 370, 371]\n"
     ]
    }
   ],
   "source": [
    "x=int(input(\"Enter start of interval\\n\")) \n",
    "y=int(input(\"Enter end of interval\\n\")) \n",
    "\n",
    "a=list(range(x,y+1))\n",
    "b=[]\n",
    "def armstr(a):\n",
    "    for i in a:\n",
    "        m=str(i)\n",
    "        sum=0\n",
    "        for j in m:\n",
    "            num=int(j)\n",
    "            sum=sum+num**len(m)\n",
    "        if sum==i:\n",
    "            b.append(i)\n",
    "    \n",
    "armstr(a)\n",
    "print(b)"
   ]
  },
  {
   "cell_type": "markdown",
   "id": "6044de88",
   "metadata": {},
   "source": [
    "# 6.\tWrite a Python Program to Find the Sum of Natural Numbers?"
   ]
  },
  {
   "cell_type": "code",
   "execution_count": 30,
   "id": "94f2992c",
   "metadata": {},
   "outputs": [
    {
     "name": "stdout",
     "output_type": "stream",
     "text": [
      "enter a number\n",
      "100000\n"
     ]
    },
    {
     "data": {
      "text/plain": [
       "5000050000"
      ]
     },
     "execution_count": 30,
     "metadata": {},
     "output_type": "execute_result"
    }
   ],
   "source": [
    "def sum_natural_number(n):\n",
    "    sum=0\n",
    "    b=list(range(1,n+1))\n",
    "    for i in b:\n",
    "        if i<=len(range(1,n+1)):\n",
    "            sum=sum+b[i-1]\n",
    "    return sum   \n",
    "sum_natural_number(int(input(\"enter a number\\n\")))"
   ]
  },
  {
   "cell_type": "code",
   "execution_count": null,
   "id": "e26be766",
   "metadata": {},
   "outputs": [],
   "source": []
  },
  {
   "cell_type": "code",
   "execution_count": null,
   "id": "e0532d28",
   "metadata": {},
   "outputs": [],
   "source": []
  }
 ],
 "metadata": {
  "kernelspec": {
   "display_name": "Python 3 (ipykernel)",
   "language": "python",
   "name": "python3"
  },
  "language_info": {
   "codemirror_mode": {
    "name": "ipython",
    "version": 3
   },
   "file_extension": ".py",
   "mimetype": "text/x-python",
   "name": "python",
   "nbconvert_exporter": "python",
   "pygments_lexer": "ipython3",
   "version": "3.10.9"
  }
 },
 "nbformat": 4,
 "nbformat_minor": 5
}
