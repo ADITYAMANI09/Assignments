{
 "cells": [
  {
   "cell_type": "markdown",
   "id": "c63bea19",
   "metadata": {},
   "source": [
    "# 1. What does an empty dictionary's code look like?"
   ]
  },
  {
   "cell_type": "code",
   "execution_count": 2,
   "id": "8fbe02bc",
   "metadata": {},
   "outputs": [],
   "source": [
    "d={}  #This is an empty dictionary."
   ]
  },
  {
   "cell_type": "markdown",
   "id": "d8bb520a",
   "metadata": {},
   "source": [
    "# 2. What is the value of a dictionary value with the key 'foo' and the value 42?"
   ]
  },
  {
   "cell_type": "code",
   "execution_count": 3,
   "id": "b48c569e",
   "metadata": {},
   "outputs": [],
   "source": [
    "d={\"foo\":42}"
   ]
  },
  {
   "cell_type": "code",
   "execution_count": 4,
   "id": "f1ec7066",
   "metadata": {},
   "outputs": [
    {
     "data": {
      "text/plain": [
       "dict_values([42])"
      ]
     },
     "execution_count": 4,
     "metadata": {},
     "output_type": "execute_result"
    }
   ],
   "source": [
    "d.values()"
   ]
  },
  {
   "cell_type": "markdown",
   "id": "2acb2d88",
   "metadata": {},
   "source": [
    "# 3. What is the most significant distinction between a dictionary and a list?"
   ]
  },
  {
   "cell_type": "markdown",
   "id": "28c57301",
   "metadata": {},
   "source": [
    "The most significant distinction between a dictionary and a list is the way data is stored and accessed.\n",
    "\n",
    "Data Storage: In a list, data is stored in a sequential manner and accessed using an index, which represents the position of an element in the list. Lists are ordered collections of items, and the order matters. On the other hand, in a dictionary, data is stored in key-value pairs, where each item has a unique key associated with it. Dictionaries are unordered collections of key-value pairs.\n",
    "\n",
    "Data Access: In a list, data is accessed using an index. For example, to access the first item in a list, you would use the index 0, for the second item, you would use the index 1, and so on. In contrast, in a dictionary, data is accessed using the key associated with it. For example, to access the value of a specific key in a dictionary, you would use that key to retrieve the value.\n",
    "\n",
    "Mutability: Lists are mutable, which means their elements can be modified, added, or removed after they are created. Dictionaries are also mutable, allowing you to add, modify, or remove key-value pairs. This makes them suitable for situations where you need to update or modify the data frequently.\n",
    "\n",
    "Unique Keys: Dictionaries require unique keys for each item, whereas lists do not. In a list, items can have duplicate values, and they can be accessed using their index. In a dictionary, each key must be unique, as it serves as the identifier for the associated value"
   ]
  },
  {
   "cell_type": "markdown",
   "id": "4f28acbe",
   "metadata": {},
   "source": [
    "# 4. What happens if you try to access spam['foo'] if spam is {'bar': 100}?"
   ]
  },
  {
   "cell_type": "code",
   "execution_count": 6,
   "id": "97e4290b",
   "metadata": {},
   "outputs": [
    {
     "ename": "KeyError",
     "evalue": "'foo'",
     "output_type": "error",
     "traceback": [
      "\u001b[1;31m---------------------------------------------------------------------------\u001b[0m",
      "\u001b[1;31mKeyError\u001b[0m                                  Traceback (most recent call last)",
      "Cell \u001b[1;32mIn[6], line 2\u001b[0m\n\u001b[0;32m      1\u001b[0m spam\u001b[38;5;241m=\u001b[39m{\u001b[38;5;124m\"\u001b[39m\u001b[38;5;124mbar\u001b[39m\u001b[38;5;124m\"\u001b[39m:\u001b[38;5;241m100\u001b[39m}\n\u001b[1;32m----> 2\u001b[0m \u001b[43mspam\u001b[49m\u001b[43m[\u001b[49m\u001b[38;5;124;43m\"\u001b[39;49m\u001b[38;5;124;43mfoo\u001b[39;49m\u001b[38;5;124;43m\"\u001b[39;49m\u001b[43m]\u001b[49m\n",
      "\u001b[1;31mKeyError\u001b[0m: 'foo'"
     ]
    }
   ],
   "source": [
    "spam={\"bar\":100}\n",
    "spam[\"foo\"]"
   ]
  },
  {
   "cell_type": "markdown",
   "id": "f8a81241",
   "metadata": {},
   "source": [
    "# 5. If a dictionary is stored in spam, what is the difference between the expressions 'cat' in spam and 'cat' in spam.keys()?"
   ]
  },
  {
   "cell_type": "code",
   "execution_count": 11,
   "id": "41b0869b",
   "metadata": {},
   "outputs": [
    {
     "data": {
      "text/plain": [
       "True"
      ]
     },
     "execution_count": 11,
     "metadata": {},
     "output_type": "execute_result"
    }
   ],
   "source": [
    "spam={\"cat\":456}\n",
    "\"cat\" in spam"
   ]
  },
  {
   "cell_type": "code",
   "execution_count": 10,
   "id": "d53b6e85",
   "metadata": {},
   "outputs": [
    {
     "data": {
      "text/plain": [
       "str"
      ]
     },
     "execution_count": 10,
     "metadata": {},
     "output_type": "execute_result"
    }
   ],
   "source": [
    "type(\"cat\")"
   ]
  },
  {
   "cell_type": "markdown",
   "id": "f379a843",
   "metadata": {},
   "source": [
    "The expressions 'cat' in spam and 'cat' in spam.keys() are used to check if the key 'cat' is present in the dictionary 'spam' and its keys, respectively. The main difference between the two expressions is the context in which they are used.\n",
    "\n",
    "'cat' in spam: This expression checks if the key 'cat' exists in the dictionary 'spam'. It will return a boolean value of True if 'cat' is a key in 'spam', and False otherwise. This expression directly checks if 'cat' is a key in the dictionary.\n",
    "\n",
    "'cat' in spam.keys(): This expression checks if the string 'cat' exists as a key in the list of keys of the dictionary 'spam'. The keys() method is used to retrieve a list of all the keys in the dictionary 'spam', and then the 'in' operator is used to check if 'cat' is present in that list of keys. It will also return a boolean value of True if 'cat' is a key in 'spam', and False otherwise.\n",
    "\n",
    "In terms of functionality, both expressions are equivalent and will yield the same result. However, the difference lies in how they are used syntactically. The first expression directly checks if 'cat' is a key in the dictionary 'spam', while the second expression retrieves a list of keys using keys() method and then checks if 'cat' is present in that list. The use of keys() method in the second expression is unnecessary for simply checking the presence of a key in the dictionary, as it creates an additional list of keys, which may not be efficient for large dictionaries. Therefore, it is generally more efficient to use the first expression, i.e., 'cat' in spam, to check for the existence of a key in a dictionary.\n",
    "\n",
    "\n",
    "\n",
    "\n",
    "\n"
   ]
  },
  {
   "cell_type": "markdown",
   "id": "f0befe52",
   "metadata": {},
   "source": [
    "# 6. If a dictionary is stored in spam, what is the difference between the expressions 'cat' in spam and 'cat' in spam.values()?"
   ]
  },
  {
   "cell_type": "code",
   "execution_count": 12,
   "id": "ee314d23",
   "metadata": {},
   "outputs": [
    {
     "data": {
      "text/plain": [
       "True"
      ]
     },
     "execution_count": 12,
     "metadata": {},
     "output_type": "execute_result"
    }
   ],
   "source": [
    "spam={\"cat\":785,\"cwf\":457}\n",
    "\"cat\" in spam"
   ]
  },
  {
   "cell_type": "code",
   "execution_count": 13,
   "id": "2e7440f1",
   "metadata": {},
   "outputs": [
    {
     "data": {
      "text/plain": [
       "dict_values([785, 457])"
      ]
     },
     "execution_count": 13,
     "metadata": {},
     "output_type": "execute_result"
    }
   ],
   "source": [
    "spam.values()"
   ]
  },
  {
   "cell_type": "markdown",
   "id": "a25ab18f",
   "metadata": {},
   "source": [
    "# 7. What is a shortcut for the following code?"
   ]
  },
  {
   "cell_type": "code",
   "execution_count": 14,
   "id": "c1c33aa7",
   "metadata": {},
   "outputs": [
    {
     "data": {
      "text/plain": [
       "{'cat': 785, 'cwf': 457, 'color': 'black'}"
      ]
     },
     "execution_count": 14,
     "metadata": {},
     "output_type": "execute_result"
    }
   ],
   "source": [
    "if 'color' not in spam:\n",
    "    spam['color'] = 'black'\n",
    "spam\n"
   ]
  },
  {
   "cell_type": "markdown",
   "id": "59f770b3",
   "metadata": {},
   "source": [
    "The shortcut for the given code is to use the dict.setdefault() method. The setdefault() method allows you to set a default value for a key in a dictionary if it doesn't already exist. Here's how you can use it:"
   ]
  },
  {
   "cell_type": "code",
   "execution_count": 15,
   "id": "13517a55",
   "metadata": {},
   "outputs": [
    {
     "data": {
      "text/plain": [
       "'black'"
      ]
     },
     "execution_count": 15,
     "metadata": {},
     "output_type": "execute_result"
    }
   ],
   "source": [
    "spam = {\"cat\": 785, \"cwf\": 457}\n",
    "spam.setdefault('color', 'black')"
   ]
  },
  {
   "cell_type": "code",
   "execution_count": 16,
   "id": "d68492cb",
   "metadata": {},
   "outputs": [
    {
     "data": {
      "text/plain": [
       "{'cat': 785, 'cwf': 457, 'color': 'black'}"
      ]
     },
     "execution_count": 16,
     "metadata": {},
     "output_type": "execute_result"
    }
   ],
   "source": [
    "spam"
   ]
  },
  {
   "cell_type": "markdown",
   "id": "e1bce33e",
   "metadata": {},
   "source": [
    "# 8. How do you \"pretty print\" dictionary values using which module and function?\n"
   ]
  },
  {
   "cell_type": "code",
   "execution_count": 17,
   "id": "8f84a58c",
   "metadata": {},
   "outputs": [
    {
     "name": "stdout",
     "output_type": "stream",
     "text": [
      "{\n",
      "    \"name\": \"John\",\n",
      "    \"age\": 30,\n",
      "    \"city\": \"New York\"\n",
      "}\n"
     ]
    }
   ],
   "source": [
    "import json\n",
    "\n",
    "# Sample dictionary\n",
    "my_dict = {\n",
    "    \"name\": \"John\",\n",
    "    \"age\": 30,\n",
    "    \"city\": \"New York\"\n",
    "}\n",
    "\n",
    "# Pretty print the dictionary using json.dumps()\n",
    "pretty_dict = json.dumps(my_dict, indent=4)\n",
    "\n",
    "# Print the pretty printed dictionary\n",
    "print(pretty_dict)\n"
   ]
  },
  {
   "cell_type": "code",
   "execution_count": null,
   "id": "cf67d413",
   "metadata": {},
   "outputs": [],
   "source": []
  }
 ],
 "metadata": {
  "kernelspec": {
   "display_name": "Python 3 (ipykernel)",
   "language": "python",
   "name": "python3"
  },
  "language_info": {
   "codemirror_mode": {
    "name": "ipython",
    "version": 3
   },
   "file_extension": ".py",
   "mimetype": "text/x-python",
   "name": "python",
   "nbconvert_exporter": "python",
   "pygments_lexer": "ipython3",
   "version": "3.10.9"
  }
 },
 "nbformat": 4,
 "nbformat_minor": 5
}
