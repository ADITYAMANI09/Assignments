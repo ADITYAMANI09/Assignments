{
 "cells": [
  {
   "cell_type": "markdown",
   "id": "9048f5bb",
   "metadata": {},
   "source": [
    "# 1.\tWrite a Python program to convert kilometres to miles?\n"
   ]
  },
  {
   "cell_type": "code",
   "execution_count": 4,
   "id": "4943e631",
   "metadata": {},
   "outputs": [
    {
     "name": "stdout",
     "output_type": "stream",
     "text": [
      "Enter distance travelled by you in kilometers :513\n",
      "But you have covered the same distance in miles is  318.763323\n"
     ]
    }
   ],
   "source": [
    "#program to convert kilometres to miles\n",
    "a=float(input(\"Enter distance travelled by you in kilometers :\"))\n",
    "b=a*0.621371\n",
    "print(\"But you have covered the same distance in miles is \",b)"
   ]
  },
  {
   "cell_type": "markdown",
   "id": "1a2ffc4f",
   "metadata": {},
   "source": [
    "# 2.\tWrite a Python program to convert Celsius to Fahrenheit?"
   ]
  },
  {
   "cell_type": "code",
   "execution_count": 6,
   "id": "6418ca4c",
   "metadata": {},
   "outputs": [
    {
     "name": "stdout",
     "output_type": "stream",
     "text": [
      "Enter the temperature in Celcius:95.69\n",
      "Same Temperature in Farenheit scale is 204.242\n"
     ]
    }
   ],
   "source": [
    "a=float(input(\"Enter the temperature in Celcius:\"))\n",
    "b=(9/5)*a+32\n",
    "print(\"Same Temperature in Farenheit scale is\",b)"
   ]
  },
  {
   "cell_type": "markdown",
   "id": "06443a82",
   "metadata": {},
   "source": [
    "# 3.\tWrite a Python program to display calendar?\n"
   ]
  },
  {
   "cell_type": "code",
   "execution_count": 28,
   "id": "4c5fa6c0",
   "metadata": {},
   "outputs": [
    {
     "name": "stdout",
     "output_type": "stream",
     "text": [
      "Enter the year: 2056\n",
      "Enter the month (1-12): 10\n",
      "\n",
      "Calendar for 10/2056:\n",
      "October 2056\n",
      "Mon Tue Wed Thu Fri Sat Sun\n",
      "[[0, 0, 0, 0, 0, 0, 1], [2, 3, 4, 5, 6, 7, 8], [9, 10, 11, 12, 13, 14, 15], [16, 17, 18, 19, 20, 21, 22], [23, 24, 25, 26, 27, 28, 29], [30, 31, 0, 0, 0, 0, 0]]\n"
     ]
    }
   ],
   "source": [
    "import calendar\n",
    "\n",
    "# Input from user\n",
    "year = int(input(\"Enter the year: \"))\n",
    "month = int(input(\"Enter the month (1-12): \"))\n",
    "\n",
    "# Display calendar\n",
    "print(\"\\nCalendar for {}/{}:\".format(month, year))\n",
    "print(calendar.month_name[month], year)\n",
    "print(calendar.weekheader(3))\n",
    "print(calendar.monthcalendar(year, month))\n"
   ]
  },
  {
   "cell_type": "markdown",
   "id": "429cc263",
   "metadata": {},
   "source": [
    "# 4.\tWrite a Python program to solve quadratic equation?"
   ]
  },
  {
   "cell_type": "code",
   "execution_count": 26,
   "id": "68bcd5d7",
   "metadata": {},
   "outputs": [
    {
     "name": "stdout",
     "output_type": "stream",
     "text": [
      "Enter the coefficient os quadratic eqaution in standard form: ax^2+bx+c=0\n",
      "Therefore you have to enter the value of a,b,c after comparing to this equation :\n",
      "Enter the value of a:1\n",
      "Enter the value of b:1\n",
      "Enter the value of c:1\n",
      "roots are imaginary\n",
      "Root 1: -0.5 + 0.8660254037844386i\n",
      "Root 2: -0.5 - 0.8660254037844386i\n"
     ]
    }
   ],
   "source": [
    "import math\n",
    "print(\"Enter the coefficient os quadratic eqaution in standard form: ax^2+bx+c=0\\nTherefore you have to enter the value of a,b,c after comparing to this equation :\")\n",
    "a=float(input(\"Enter the value of a:\"))\n",
    "b=float(input(\"Enter the value of b:\"))\n",
    "c=float(input(\"Enter the value of c:\"))\n",
    "discriminant=b**2-4*a*c\n",
    "if discriminant>0:\n",
    "    print(\"roots are real and unequal\")\n",
    "    root_1=((-b)+(math.sqrt(discriminant)))/2*a\n",
    "    root_2=((-b)-(math.sqrt(discriminant)))/2*a\n",
    "    print(\"roots are\",root_1,root_2)\n",
    "elif discriminant==0:\n",
    "    print(\"roots are real and equal\")\n",
    "    root_1=((-b)+(math.sqrt(discriminant)))/2*a\n",
    "    root_2=((-b)-(math.sqrt(discriminant)))/2*a\n",
    "    print(\"roots are:\",root_1,root_2)\n",
    "else:\n",
    "    print(\"roots are imaginary\")\n",
    "    realPart=(-b)/2*a\n",
    "    imaginaryPart=(math.sqrt(-discriminant))/2*a\n",
    "    print(\"Root 1: {} + {}i\".format(realPart, imaginaryPart))\n",
    "    print(\"Root 2: {} - {}i\".format(realPart, imaginaryPart))\n",
    "    "
   ]
  },
  {
   "cell_type": "markdown",
   "id": "c329a5da",
   "metadata": {},
   "source": [
    "# 5.\tWrite a Python program to swap two variables without temp variable?"
   ]
  },
  {
   "cell_type": "code",
   "execution_count": 27,
   "id": "2de72075",
   "metadata": {},
   "outputs": [
    {
     "name": "stdout",
     "output_type": "stream",
     "text": [
      "Enter value for variable a: 45\n",
      "Enter value for variable b: 65\n",
      "Original values:\n",
      "a = 45\n",
      "b = 65\n",
      "Swapped values:\n",
      "a = 65\n",
      "b = 45\n"
     ]
    }
   ],
   "source": [
    "# Input from user\n",
    "a = int(input(\"Enter value for variable a: \"))\n",
    "b = int(input(\"Enter value for variable b: \"))\n",
    "\n",
    "# Print original values\n",
    "print(\"Original values:\")\n",
    "print(\"a =\", a)\n",
    "print(\"b =\", b)\n",
    "\n",
    "# Swap variables without temp variable\n",
    "a = a + b\n",
    "b = a - b\n",
    "a = a - b\n",
    "\n",
    "# Print swapped values\n",
    "print(\"Swapped values:\")\n",
    "print(\"a =\", a)\n",
    "print(\"b =\", b)\n"
   ]
  },
  {
   "cell_type": "code",
   "execution_count": null,
   "id": "f42311dd",
   "metadata": {},
   "outputs": [],
   "source": []
  }
 ],
 "metadata": {
  "kernelspec": {
   "display_name": "Python 3 (ipykernel)",
   "language": "python",
   "name": "python3"
  },
  "language_info": {
   "codemirror_mode": {
    "name": "ipython",
    "version": 3
   },
   "file_extension": ".py",
   "mimetype": "text/x-python",
   "name": "python",
   "nbconvert_exporter": "python",
   "pygments_lexer": "ipython3",
   "version": "3.10.9"
  }
 },
 "nbformat": 4,
 "nbformat_minor": 5
}
