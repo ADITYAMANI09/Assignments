{
 "cells": [
  {
   "cell_type": "markdown",
   "id": "0cb5609f",
   "metadata": {},
   "source": [
    "# Questions 1\n",
    "1. In the below elements which of them are values or an expression? eg:- values can be integer or string and expressions will be mathematical operators.\n",
    "* \n",
    "'hello'\n",
    "-87.8\n",
    "- \n",
    "/ \n",
    "+\t\n",
    "6 \n"
   ]
  },
  {
   "cell_type": "markdown",
   "id": "f34ce987",
   "metadata": {},
   "source": [
    "# Answer\n",
    "values are== 'hello' ,-87.8 and 6 whereas expression are *,/,+,-"
   ]
  },
  {
   "cell_type": "markdown",
   "id": "e9eaa543",
   "metadata": {},
   "source": [
    "# Question2\n",
    "What is the difference between string and variable?\n"
   ]
  },
  {
   "cell_type": "markdown",
   "id": "eed30a38",
   "metadata": {},
   "source": [
    "# Answer\n",
    "A variable can store different types of data, such as numbers, strings, boolean values, and more. It can be assigned a value, which can be changed as needed during program execution. The name of a variable is used to refer to its value in the code.\n",
    "\n",
    "A string is a specific type of data, consisting of a sequence of characters enclosed in quotes (either single or double quotes depending on the programming language). It is often used to represent text in a program, such as a name, a message, or a sentence."
   ]
  },
  {
   "cell_type": "markdown",
   "id": "064ecd4a",
   "metadata": {},
   "source": [
    "# 3. Describe three different data types."
   ]
  },
  {
   "cell_type": "markdown",
   "id": "4a1b5092",
   "metadata": {},
   "source": [
    "data types are used to categorize different types of data that can be stored and manipulated in a program. Three types are\n",
    "\n",
    "Integer (int): An integer is a whole number without a decimal point. In most programming languages, integers are used to represent numerical values in calculations, counters, and other mathematical operations. For example, the number 42 is an integer.\n",
    "\n",
    "String (str): A string is a sequence of characters, such as letters, numbers, and symbols, that is used to represent text or other types of data. In most programming languages, strings are enclosed in quotation marks to distinguish them from other data types. For example, \"hello world\" is a string.\n",
    "\n",
    "Boolean (bool): A boolean is a data type that can have one of two values: True or False. Booleans are often used in conditional statements and logical operations to control the flow of a program. For example, a boolean expression like 2 + 2 == 4 would evaluate to True"
   ]
  },
  {
   "cell_type": "markdown",
   "id": "091633d5",
   "metadata": {},
   "source": [
    "# Question4\n",
    "What is an expression made up of? What do all expressions do?"
   ]
  },
  {
   "cell_type": "markdown",
   "id": "0494b09d",
   "metadata": {},
   "source": [
    "# Answer\n",
    "An expression is a combination of values, variables, operators, and function calls that are evaluated to produce a result.\n",
    "\n",
    "Expressions can be simple or complex, and can involve arithmetic operations, logical operations, comparison operations, or a combination of these. For example, the following are examples of expressions:\n",
    "\n",
    "2 + 3\n",
    "x * y\n",
    "(a == b) && (c != d)"
   ]
  },
  {
   "cell_type": "markdown",
   "id": "df01758e",
   "metadata": {},
   "source": [
    "# 5. This assignment statements, \n",
    "like spam = 10. What is the difference between an expression and a statement?"
   ]
  },
  {
   "cell_type": "markdown",
   "id": "7bd68b1c",
   "metadata": {},
   "source": [
    "The main difference between expressions and statements is that expressions are evaluated to produce a result, while statements perform some action or operation. Additionally, expressions can be used as part of a statement, but a statement cannot be used as part of an expression.\n",
    "\n",
    "In the example \"spam = 10\", \"10\" is an expression that evaluates to the value 10, and \"spam = 10\" is a statement that assigns the value 10 to the variable \"spam\"."
   ]
  },
  {
   "cell_type": "markdown",
   "id": "2694486f",
   "metadata": {},
   "source": [
    "# 6. After running the following code, what does the variable bacon contain?\n",
    "bacon = 22\n",
    "bacon + 1\n"
   ]
  },
  {
   "cell_type": "code",
   "execution_count": 1,
   "id": "92ae82f8",
   "metadata": {},
   "outputs": [],
   "source": [
    "bacon = 22"
   ]
  },
  {
   "cell_type": "code",
   "execution_count": 2,
   "id": "0d1569af",
   "metadata": {},
   "outputs": [
    {
     "data": {
      "text/plain": [
       "23"
      ]
     },
     "execution_count": 2,
     "metadata": {},
     "output_type": "execute_result"
    }
   ],
   "source": [
    "bacon + 1"
   ]
  },
  {
   "cell_type": "markdown",
   "id": "15753962",
   "metadata": {},
   "source": [
    "# 7. What should the values of the following two terms be?\n",
    "'spam' + 'spamspam'\n",
    "\n",
    "\n",
    "'spam' * 3\n"
   ]
  },
  {
   "cell_type": "code",
   "execution_count": 3,
   "id": "211a521e",
   "metadata": {},
   "outputs": [
    {
     "data": {
      "text/plain": [
       "'spamspamspam'"
      ]
     },
     "execution_count": 3,
     "metadata": {},
     "output_type": "execute_result"
    }
   ],
   "source": [
    "'spam'*3"
   ]
  },
  {
   "cell_type": "code",
   "execution_count": 4,
   "id": "9a090b03",
   "metadata": {},
   "outputs": [
    {
     "data": {
      "text/plain": [
       "'spamspamspam'"
      ]
     },
     "execution_count": 4,
     "metadata": {},
     "output_type": "execute_result"
    }
   ],
   "source": [
    "'spam'+'spamspam'"
   ]
  },
  {
   "cell_type": "markdown",
   "id": "58f82300",
   "metadata": {},
   "source": [
    "# 8. Why is eggs a valid variable name while 100 is invalid?"
   ]
  },
  {
   "cell_type": "markdown",
   "id": "3f691a6b",
   "metadata": {},
   "source": [
    "variable names have to follow certain rules and conventions. In most programming languages, variable names can only contain letters, digits, and underscores, and cannot start with a digit. Additionally, variable names cannot be the same as reserved keywords or identifiers in the language."
   ]
  },
  {
   "cell_type": "markdown",
   "id": "f636dab9",
   "metadata": {},
   "source": [
    "# 9. What three functions can be used to get the integer, floating-point number, or string version of a value?"
   ]
  },
  {
   "cell_type": "markdown",
   "id": "48d07df9",
   "metadata": {},
   "source": [
    "# Ans\n",
    "The three functions that can be used to convert a value to an integer, floating-point number, or string are:\n",
    "\n",
    "int(): The int() function can be used to convert a value to an integer. For example, int(\"42\") would return the integer value 42. The int() function can also take an optional second argument, which specifies the base of the number being converted. For example, int(\"101\", 2) would return the integer value 5 because \"101\" represents the binary number 101.\n",
    "\n",
    "float(): The float() function can be used to convert a value to a floating-point number. For example, float(\"3.14\") would return the floating-point value 3.14.\n",
    "\n",
    "str(): The str() function can be used to convert a value to a string. For example, str(42) would return the string \"42\"."
   ]
  },
  {
   "cell_type": "markdown",
   "id": "52e2169b",
   "metadata": {},
   "source": [
    "# 10. Why does this expression cause an error? How can you fix it?\n",
    "'I have eaten ' + 99 + ' burritos.'"
   ]
  },
  {
   "cell_type": "markdown",
   "id": "34a8938a",
   "metadata": {},
   "source": [
    "Because mathematical operation cannot be performed in different datatype."
   ]
  },
  {
   "cell_type": "markdown",
   "id": "7e868e51",
   "metadata": {},
   "source": [
    "Yes,We can fix this by changing the data type:"
   ]
  },
  {
   "cell_type": "code",
   "execution_count": 5,
   "id": "6ed731dc",
   "metadata": {},
   "outputs": [
    {
     "data": {
      "text/plain": [
       "'I have eaten 99 burritos.'"
      ]
     },
     "execution_count": 5,
     "metadata": {},
     "output_type": "execute_result"
    }
   ],
   "source": [
    "'I have eaten ' + str(99) + ' burritos.'"
   ]
  }
 ],
 "metadata": {
  "kernelspec": {
   "display_name": "Python 3 (ipykernel)",
   "language": "python",
   "name": "python3"
  },
  "language_info": {
   "codemirror_mode": {
    "name": "ipython",
    "version": 3
   },
   "file_extension": ".py",
   "mimetype": "text/x-python",
   "name": "python",
   "nbconvert_exporter": "python",
   "pygments_lexer": "ipython3",
   "version": "3.9.13"
  }
 },
 "nbformat": 4,
 "nbformat_minor": 5
}
