{
 "cells": [
  {
   "cell_type": "raw",
   "id": "6e64c24a",
   "metadata": {},
   "source": [
    "1.\tWrite a Python Program to Display Fibonacci Sequence Using Recursion?\n",
    "2.\tWrite a Python Program to Find Factorial of Number Using Recursion?\n",
    "3.\tWrite a Python Program to calculate your Body Mass Index?\n",
    "4.\tWrite a Python Program to calculate the natural logarithm of any number?\n",
    "5.\tWrite a Python Program for cube sum of first n natural numbers?"
   ]
  },
  {
   "cell_type": "markdown",
   "id": "12822c99",
   "metadata": {},
   "source": [
    "# 1.\tWrite a Python Program to Display Fibonacci Sequence Using Recursion?"
   ]
  },
  {
   "cell_type": "code",
   "execution_count": 10,
   "id": "9020e569",
   "metadata": {},
   "outputs": [
    {
     "name": "stdout",
     "output_type": "stream",
     "text": [
      "[0, 1, 1, 2, 3, 5, 8, 13, 21, 34]\n"
     ]
    }
   ],
   "source": [
    "def fibonacci(x):\n",
    "    if x==0 or x==1:\n",
    "        return x\n",
    "    else:\n",
    "        return fibonacci(x-1)+fibonacci(x-2)\n",
    "\n",
    "a=[]\n",
    "for i in range(10):\n",
    "    a.append(fibonacci(i))\n",
    "print(a)\n",
    "  "
   ]
  },
  {
   "cell_type": "markdown",
   "id": "75c646d1",
   "metadata": {},
   "source": [
    "# 2. Write a Python Program to Find Factorial of Number Using Recursion?"
   ]
  },
  {
   "cell_type": "code",
   "execution_count": 9,
   "id": "d89c8465",
   "metadata": {},
   "outputs": [
    {
     "name": "stdout",
     "output_type": "stream",
     "text": [
      "enter a number for which you need factorial value \n",
      "5\n"
     ]
    },
    {
     "data": {
      "text/plain": [
       "120"
      ]
     },
     "execution_count": 9,
     "metadata": {},
     "output_type": "execute_result"
    }
   ],
   "source": [
    "def fact(x):\n",
    "    if x==0 or x==1:\n",
    "        return 1\n",
    "    else:\n",
    "        return x*fact(x-1)\n",
    "x=int(input(\"Enter a number for which you need factorial value \\n\"))\n",
    "fact(x)\n"
   ]
  },
  {
   "cell_type": "markdown",
   "id": "b33b915d",
   "metadata": {},
   "source": [
    "# 3. Write a Python Program to calculate your Body Mass Index?"
   ]
  },
  {
   "cell_type": "code",
   "execution_count": 11,
   "id": "8a568c1f",
   "metadata": {},
   "outputs": [
    {
     "name": "stdout",
     "output_type": "stream",
     "text": [
      "Enter weight in kg\n",
      "70.1\n",
      "Enter your height in meters\n",
      "1.65\n",
      "Your  BMI is :  25.748393021120293\n"
     ]
    }
   ],
   "source": [
    "#Calculation of BMI in Metric Units\n",
    "w=float(input(\"Enter weight in kg\\n\"))\n",
    "h=float(input(\"Enter your height in meters\\n\"))\n",
    "BMI=w/h**2\n",
    "print(\"Your  BMI is : \",BMI)"
   ]
  },
  {
   "cell_type": "markdown",
   "id": "da24f4e7",
   "metadata": {},
   "source": [
    "# 4.\tWrite a Python Program to calculate the natural logarithm of any number?"
   ]
  },
  {
   "cell_type": "code",
   "execution_count": 15,
   "id": "29000d69",
   "metadata": {},
   "outputs": [
    {
     "name": "stdout",
     "output_type": "stream",
     "text": [
      "Enter a positive number: 45\n",
      "The natural logarithm of 45.0 is 3.8066624897703196\n"
     ]
    }
   ],
   "source": [
    "import math\n",
    "\n",
    "# Input: Enter the number for which you want to calculate the natural logarithm\n",
    "num = float(input(\"Enter a positive number: \"))\n",
    "\n",
    "# Calculate the natural logarithm using the math.log() function\n",
    "if num > 0:\n",
    "    result = math.log(num)\n",
    "    print(\"The natural logarithm of\", num, \"is\", result)\n",
    "else:\n",
    "    print(\"Error: Please enter a positive number.\")\n"
   ]
  },
  {
   "cell_type": "markdown",
   "id": "07217068",
   "metadata": {},
   "source": [
    "# 5.\tWrite a Python Program for cube sum of first n natural numbers?"
   ]
  },
  {
   "cell_type": "code",
   "execution_count": 26,
   "id": "c85511cd",
   "metadata": {},
   "outputs": [
    {
     "name": "stdout",
     "output_type": "stream",
     "text": [
      "Enter the number of terms for summation of cube\n",
      "10\n",
      "cube sum of first 10 natural numbers 3025\n"
     ]
    }
   ],
   "source": [
    "n=int(input(\"Enter the number of terms for summation of cube\\n\"))\n",
    "a=list(range(1,n+1))\n",
    "sum=0                               #intialization\n",
    "for i in a:\n",
    "    sum=sum+a[i-1]**3\n",
    "print(f\"cube sum of first {n} natural numbers\",sum)"
   ]
  },
  {
   "cell_type": "code",
   "execution_count": null,
   "id": "01a078cf",
   "metadata": {},
   "outputs": [],
   "source": []
  }
 ],
 "metadata": {
  "kernelspec": {
   "display_name": "Python 3 (ipykernel)",
   "language": "python",
   "name": "python3"
  },
  "language_info": {
   "codemirror_mode": {
    "name": "ipython",
    "version": 3
   },
   "file_extension": ".py",
   "mimetype": "text/x-python",
   "name": "python",
   "nbconvert_exporter": "python",
   "pygments_lexer": "ipython3",
   "version": "3.10.9"
  }
 },
 "nbformat": 4,
 "nbformat_minor": 5
}
