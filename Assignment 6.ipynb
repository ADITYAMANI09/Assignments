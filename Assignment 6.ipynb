{
 "cells": [
  {
   "cell_type": "markdown",
   "id": "4d34c0c1",
   "metadata": {},
   "source": [
    "# 1. What are escape characters, and how do you use them?"
   ]
  },
  {
   "cell_type": "markdown",
   "id": "46e245f5",
   "metadata": {},
   "source": [
    "Escape characters are special characters that are used to represent certain characters or sequences of characters that are difficult to input or display directly in a string or text. They are typically used in programming languages, markup languages, and regular expressions to represent characters or sequences that have a special meaning or functionality.\n",
    "\n",
    "Escape characters are typically preceded by a backslash () to indicate that the following character(s) should be treated as a special character or sequence, rather than their literal meaning. Here are some common examples of escape characters and their usage:\n",
    "\n",
    "Backslash (): Used to escape itself, or to represent special characters such as newline (\\n), tab (\\t), or backslash itself (\\).\n",
    "Example: \"This is a backslash: \\\" will output: \"This is a backslash: \"\n",
    "\n",
    "Newline (\\n): Represents a new line or line break in a string.\n",
    "Example: \"Hello\\nWorld\" will output:\n",
    "\n",
    "ab (\\t): Represents a tab or horizontal whitespace character in a string.\n",
    "Example: \"Name:\\tJohn\" will output: \"Name: John\"\n",
    "\n",
    "Double quotes (\"): Represents a double quote character in a string.\n",
    "Example: \"He said, \"Hello!\"\" will output: \"He said, \"Hello!\"\"\n",
    "\n",
    "Single quote ('): Represents a single quote character in a string (used in some programming languages).\n",
    "Example: 'It's raining today' will output: \"It's raining today\""
   ]
  },
  {
   "cell_type": "markdown",
   "id": "5d2bc16c",
   "metadata": {},
   "source": [
    "# 2. What do the escape characters n and t stand for?"
   ]
  },
  {
   "cell_type": "markdown",
   "id": "cf37c6cd",
   "metadata": {},
   "source": [
    "Newline (\\n): Represents a new line or line break in a string.\n",
    "Example: \"Hello\\nWorld\" will output:"
   ]
  },
  {
   "cell_type": "raw",
   "id": "bf65357f",
   "metadata": {},
   "source": [
    "Hellow\n",
    "world"
   ]
  },
  {
   "cell_type": "markdown",
   "id": "73c71b20",
   "metadata": {},
   "source": [
    "Tab (\\t): Represents a tab or horizontal whitespace character in a string.\n",
    "Example: \"Name:\\tJohn\" will output: \"Name: John\""
   ]
  },
  {
   "cell_type": "markdown",
   "id": "152afbac",
   "metadata": {},
   "source": [
    "# 3. What is the way to include backslash characters in a string?"
   ]
  },
  {
   "cell_type": "markdown",
   "id": "b756f5a7",
   "metadata": {},
   "source": [
    "To include a literal backslash () character in a string, you typically need to use an escape character before it. In most programming languages and many other systems, the backslash itself is used as the escape character. To include a backslash in a string, you would use two consecutive backslashes (\\)."
   ]
  },
  {
   "cell_type": "code",
   "execution_count": 2,
   "id": "8be03788",
   "metadata": {},
   "outputs": [
    {
     "name": "stdout",
     "output_type": "stream",
     "text": [
      "This is a backslash: \\\n",
      "This is also a backslash: \\\n"
     ]
    }
   ],
   "source": [
    "# Using double quotes\n",
    "string1 = \"This is a backslash: \\\\\"\n",
    "print(string1)  # Output: This is a backslash: \\\n",
    "\n",
    "# Using single quotes\n",
    "string2 = 'This is also a backslash: \\\\'\n",
    "print(string2)  # Output: This is also a backslash: \\\n"
   ]
  },
  {
   "cell_type": "markdown",
   "id": "d69861ba",
   "metadata": {},
   "source": [
    "In the above example, the double backslash (\\) is used to represent a literal backslash character in the strings string1 and string2, which will be printed as a single backslash in the output."
   ]
  },
  {
   "cell_type": "markdown",
   "id": "66db2391",
   "metadata": {},
   "source": [
    "# 4. The string \"Howl's Moving Castle\" is a correct value. Why isn't the single quote character in the word Howl's not escaped a problem?"
   ]
  },
  {
   "cell_type": "markdown",
   "id": "6da32615",
   "metadata": {},
   "source": [
    "The string \"Howl's Moving Castle\" is a correct value because the single quote character ('), also known as an apostrophe, is not a problem in this case. The reason is that the single quote character is not a special character in most programming languages or systems when used within a string literal.\n",
    "\n",
    "In many programming languages, including Python, JavaScript, and Ruby, single quotes (' ') and double quotes (\" \") can both be used to define string literals, and they are functionally equivalent. This means that the single quote character ('), when used within a string defined with double quotes (\" \"), does not need to be escaped.\n",
    "\n",
    "Here's an example in Python"
   ]
  },
  {
   "cell_type": "code",
   "execution_count": 3,
   "id": "577521e0",
   "metadata": {},
   "outputs": [
    {
     "name": "stdout",
     "output_type": "stream",
     "text": [
      "Howl's Moving Castle\n",
      "He said, \"Hello!\"\n"
     ]
    }
   ],
   "source": [
    "# Single quotes within double quotes\n",
    "string1 = \"Howl's Moving Castle\"\n",
    "print(string1)  # Output: Howl's Moving Castle\n",
    "\n",
    "# Double quotes within single quotes\n",
    "string2 = 'He said, \"Hello!\"'\n",
    "print(string2)  # Output: He said, \"Hello!\"\n"
   ]
  },
  {
   "cell_type": "markdown",
   "id": "1dda050b",
   "metadata": {},
   "source": [
    "As you can see in the example above, the single quote character ('), when used within a string defined with double quotes (\" \"), does not cause any problems and does not need to be escaped. Similarly, double quotes (\" \"), when used within a string defined with single quotes (' '), also do not need to be escaped."
   ]
  },
  {
   "cell_type": "markdown",
   "id": "03e6d71f",
   "metadata": {},
   "source": [
    "# 5. How do you write a string of newlines if you don't want to use the \\n character?"
   ]
  },
  {
   "cell_type": "markdown",
   "id": "0114606b",
   "metadata": {},
   "source": [
    "If you want to write a string of newlines without using the \"\\n\" character, you can use other approaches depending on the programming language or system you are working with. Here are a few examples:\n",
    "\n",
    "Using Multiline String Syntax: Some programming languages, such as Python, allow you to use triple quotes (''' ''', \"\"\" \"\"\") to create multiline strings, which can span multiple lines and include line breaks without using escape characters."
   ]
  },
  {
   "cell_type": "code",
   "execution_count": 4,
   "id": "4e9a3f83",
   "metadata": {},
   "outputs": [
    {
     "name": "stdout",
     "output_type": "stream",
     "text": [
      "Hello\n",
      "World\n"
     ]
    }
   ],
   "source": [
    "# Python example using triple quotes\n",
    "string1 = '''Hello\n",
    "World'''\n",
    "print(string1)  # Output:\n",
    "# Hello\n",
    "# World\n"
   ]
  },
  {
   "cell_type": "markdown",
   "id": "6f17feb9",
   "metadata": {},
   "source": [
    "Using Concatenation: You can concatenate multiple strings with line breaks or other whitespace characters to achieve a string of newlines. This approach may require additional manipulation to ensure consistent spacing and formatting."
   ]
  },
  {
   "cell_type": "code",
   "execution_count": 5,
   "id": "a92b05b2",
   "metadata": {},
   "outputs": [
    {
     "name": "stdout",
     "output_type": "stream",
     "text": [
      "Hello World\n",
      "Hello \n",
      "World\n"
     ]
    }
   ],
   "source": [
    "# Concatenation example\n",
    "string2 = \"Hello \" + \"World\"\n",
    "print(string2)  # Output: Hello World\n",
    "\n",
    "string3 = \"Hello \" + \"\\n\" + \"World\"\n",
    "print(string3)  # Output:\n",
    "# Hello\n",
    "# World\n"
   ]
  },
  {
   "cell_type": "markdown",
   "id": "55d30ec7",
   "metadata": {},
   "source": [
    "Using String Formatting: Some programming languages, such as Python, provide string formatting options that allow you to insert newlines or other whitespace characters in a more readable way."
   ]
  },
  {
   "cell_type": "code",
   "execution_count": 6,
   "id": "d1f2648f",
   "metadata": {},
   "outputs": [
    {
     "name": "stdout",
     "output_type": "stream",
     "text": [
      "Hello\n",
      "World\n"
     ]
    }
   ],
   "source": [
    "# Python example using string formatting\n",
    "string4 = \"Hello\\n{}\".format(\"World\")\n",
    "print(string4)  # Output:\n",
    "# Hello\n",
    "# World\n"
   ]
  },
  {
   "cell_type": "markdown",
   "id": "575b7e45",
   "metadata": {},
   "source": [
    "# 6. What are the values of the given expressions?"
   ]
  },
  {
   "cell_type": "markdown",
   "id": "567819f6",
   "metadata": {},
   "source": [
    "'Hello, world!'[1]"
   ]
  },
  {
   "cell_type": "code",
   "execution_count": 7,
   "id": "8f76efc1",
   "metadata": {},
   "outputs": [
    {
     "data": {
      "text/plain": [
       "'Hello, world!'"
      ]
     },
     "execution_count": 7,
     "metadata": {},
     "output_type": "execute_result"
    }
   ],
   "source": [
    "'Hello, world!'"
   ]
  },
  {
   "cell_type": "code",
   "execution_count": 8,
   "id": "7b77b7c5",
   "metadata": {},
   "outputs": [
    {
     "data": {
      "text/plain": [
       "'e'"
      ]
     },
     "execution_count": 8,
     "metadata": {},
     "output_type": "execute_result"
    }
   ],
   "source": [
    "'Hello, world!'[1]"
   ]
  },
  {
   "cell_type": "code",
   "execution_count": 9,
   "id": "5e8ede6c",
   "metadata": {},
   "outputs": [
    {
     "data": {
      "text/plain": [
       "'Hello'"
      ]
     },
     "execution_count": 9,
     "metadata": {},
     "output_type": "execute_result"
    }
   ],
   "source": [
    "'Hello, world!'[0:5]"
   ]
  },
  {
   "cell_type": "code",
   "execution_count": 10,
   "id": "afbcac20",
   "metadata": {},
   "outputs": [
    {
     "data": {
      "text/plain": [
       "'Hello'"
      ]
     },
     "execution_count": 10,
     "metadata": {},
     "output_type": "execute_result"
    }
   ],
   "source": [
    "'Hello, world!'[:5]"
   ]
  },
  {
   "cell_type": "code",
   "execution_count": 11,
   "id": "c192e5da",
   "metadata": {},
   "outputs": [
    {
     "data": {
      "text/plain": [
       "'lo, world!'"
      ]
     },
     "execution_count": 11,
     "metadata": {},
     "output_type": "execute_result"
    }
   ],
   "source": [
    "'Hello, world!'[3:]"
   ]
  },
  {
   "cell_type": "markdown",
   "id": "ae28605f",
   "metadata": {},
   "source": [
    "# 7. What are the values of the following expressions?"
   ]
  },
  {
   "cell_type": "code",
   "execution_count": 12,
   "id": "624ecf26",
   "metadata": {},
   "outputs": [
    {
     "data": {
      "text/plain": [
       "'HELLO'"
      ]
     },
     "execution_count": 12,
     "metadata": {},
     "output_type": "execute_result"
    }
   ],
   "source": [
    "'Hello'.upper()"
   ]
  },
  {
   "cell_type": "code",
   "execution_count": 15,
   "id": "08876615",
   "metadata": {},
   "outputs": [
    {
     "data": {
      "text/plain": [
       "True"
      ]
     },
     "execution_count": 15,
     "metadata": {},
     "output_type": "execute_result"
    }
   ],
   "source": [
    "'Hello'.upper().isupper()"
   ]
  },
  {
   "cell_type": "code",
   "execution_count": 16,
   "id": "9d9548fd",
   "metadata": {},
   "outputs": [
    {
     "data": {
      "text/plain": [
       "'hello'"
      ]
     },
     "execution_count": 16,
     "metadata": {},
     "output_type": "execute_result"
    }
   ],
   "source": [
    "'Hello'.upper().lower()"
   ]
  },
  {
   "cell_type": "markdown",
   "id": "f46eecaf",
   "metadata": {},
   "source": [
    "# 8. What are the values of the following expressions?"
   ]
  },
  {
   "cell_type": "raw",
   "id": "805273f7",
   "metadata": {},
   "source": [
    "'Remember, remember, the fifth of July.'.split()\n",
    "'-'.join('There can only one.'.split())"
   ]
  },
  {
   "cell_type": "code",
   "execution_count": 23,
   "id": "22765886",
   "metadata": {},
   "outputs": [
    {
     "data": {
      "text/plain": [
       "['Remember,', 'remember,', 'the', 'fifth', 'of', 'July.']"
      ]
     },
     "execution_count": 23,
     "metadata": {},
     "output_type": "execute_result"
    }
   ],
   "source": [
    "'Remember, remember, the fifth of July.'.split()"
   ]
  },
  {
   "cell_type": "code",
   "execution_count": 24,
   "id": "d6a28e4a",
   "metadata": {},
   "outputs": [
    {
     "data": {
      "text/plain": [
       "'There-can-only-one.'"
      ]
     },
     "execution_count": 24,
     "metadata": {},
     "output_type": "execute_result"
    }
   ],
   "source": [
    "'-'.join('There can only one.'.split())"
   ]
  },
  {
   "cell_type": "markdown",
   "id": "ef7f1026",
   "metadata": {},
   "source": [
    "# 9. What are the methods for right-justifying, left-justifying, and centering a string?"
   ]
  },
  {
   "cell_type": "markdown",
   "id": "39548a7b",
   "metadata": {},
   "source": [
    "Right-justifying a string:"
   ]
  },
  {
   "cell_type": "code",
   "execution_count": 25,
   "id": "0bbece5c",
   "metadata": {},
   "outputs": [
    {
     "name": "stdout",
     "output_type": "stream",
     "text": [
      "*****Hello\n"
     ]
    }
   ],
   "source": [
    "string = \"Hello\"\n",
    "width = 10\n",
    "fillchar = \"*\"\n",
    "right_justified = string.rjust(width, fillchar)\n",
    "print(right_justified)\n"
   ]
  },
  {
   "cell_type": "markdown",
   "id": "c6256956",
   "metadata": {},
   "source": [
    "Left-justifying a string:"
   ]
  },
  {
   "cell_type": "code",
   "execution_count": 26,
   "id": "21181dc1",
   "metadata": {},
   "outputs": [
    {
     "name": "stdout",
     "output_type": "stream",
     "text": [
      "Hello*****\n"
     ]
    }
   ],
   "source": [
    "string = \"Hello\"\n",
    "width = 10\n",
    "fillchar = \"*\"\n",
    "left_justified = string.ljust(width, fillchar)\n",
    "print(left_justified)\n"
   ]
  },
  {
   "cell_type": "markdown",
   "id": "27bebce7",
   "metadata": {},
   "source": [
    "Centering a string:"
   ]
  },
  {
   "cell_type": "code",
   "execution_count": 27,
   "id": "af03025d",
   "metadata": {},
   "outputs": [
    {
     "name": "stdout",
     "output_type": "stream",
     "text": [
      "**Hello***\n"
     ]
    }
   ],
   "source": [
    "string = \"Hello\"\n",
    "width = 10\n",
    "fillchar = \"*\"\n",
    "centered = string.center(width, fillchar)\n",
    "print(centered)\n"
   ]
  },
  {
   "cell_type": "markdown",
   "id": "76ec02b1",
   "metadata": {},
   "source": [
    "# 10. What is the best way to remove whitespace characters from the start or end?"
   ]
  },
  {
   "cell_type": "markdown",
   "id": "840d5804",
   "metadata": {},
   "source": [
    " Python using the strip() method:"
   ]
  },
  {
   "cell_type": "code",
   "execution_count": 28,
   "id": "c6e01a01",
   "metadata": {},
   "outputs": [
    {
     "name": "stdout",
     "output_type": "stream",
     "text": [
      "Hello, World!\n"
     ]
    }
   ],
   "source": [
    "string = \"   Hello, World!   \"\n",
    "trimmed_string = string.strip()\n",
    "print(trimmed_string)\n"
   ]
  },
  {
   "cell_type": "code",
   "execution_count": null,
   "id": "ce636d7a",
   "metadata": {},
   "outputs": [],
   "source": []
  }
 ],
 "metadata": {
  "kernelspec": {
   "display_name": "Python 3 (ipykernel)",
   "language": "python",
   "name": "python3"
  },
  "language_info": {
   "codemirror_mode": {
    "name": "ipython",
    "version": 3
   },
   "file_extension": ".py",
   "mimetype": "text/x-python",
   "name": "python",
   "nbconvert_exporter": "python",
   "pygments_lexer": "ipython3",
   "version": "3.10.9"
  }
 },
 "nbformat": 4,
 "nbformat_minor": 5
}
